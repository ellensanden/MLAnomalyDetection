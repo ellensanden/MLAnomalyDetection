{
 "metadata": {
  "language_info": {
   "codemirror_mode": {
    "name": "ipython",
    "version": 3
   },
   "file_extension": ".py",
   "mimetype": "text/x-python",
   "name": "python",
   "nbconvert_exporter": "python",
   "pygments_lexer": "ipython3",
   "version": "3.8.5"
  },
  "orig_nbformat": 2,
  "kernelspec": {
   "name": "python385jvsc74a57bd091765243d447bc10b34282cff786081469c78a527bea45126a87448256c6538f",
   "display_name": "Python 3.8.5 64-bit ('tf': conda)"
  }
 },
 "nbformat": 4,
 "nbformat_minor": 2,
 "cells": [
  {
   "source": [
    "## CNN autoencoder"
   ],
   "cell_type": "markdown",
   "metadata": {}
  },
  {
   "cell_type": "code",
   "execution_count": 1,
   "metadata": {},
   "outputs": [],
   "source": [
    "from matplotlib import pyplot\n",
    "import keras\n",
    "import tensorflow as tf\n",
    "from keras.models import Model\n",
    "from keras.models import Sequential\n",
    "from keras.layers import Input\n",
    "from keras.layers import LSTM\n",
    "from keras.layers import Dense\n",
    "from keras.layers import Dropout\n",
    "from keras.layers import TimeDistributed\n",
    "from keras.layers import RepeatVector\n",
    "from keras.layers import GRU\n",
    "from keras.layers import Conv3D\n",
    "from keras.layers import MaxPool3D\n",
    "from keras.utils import plot_model\n",
    "from keras.callbacks import EarlyStopping\n",
    "import numpy as np\n",
    "from numpy import array"
   ]
  },
  {
   "cell_type": "code",
   "execution_count": 10,
   "metadata": {},
   "outputs": [
    {
     "output_type": "stream",
     "name": "stdout",
     "text": [
      "(989, 64)\n"
     ]
    }
   ],
   "source": [
    "from data_processing import process\n",
    "filename = 'gear_dataset.csv'\n",
    "rows = 1000\n",
    "data = process(filename,rows)\n",
    "n_rows = data.shape[0] \n",
    "n_features = data.shape[1]\n",
    "print(data.shape)"
   ]
  },
  {
   "cell_type": "code",
   "execution_count": 8,
   "metadata": {},
   "outputs": [
    {
     "output_type": "error",
     "ename": "IndentationError",
     "evalue": "unexpected indent (<ipython-input-8-1e884a2e60eb>, line 5)",
     "traceback": [
      "\u001b[1;36m  File \u001b[1;32m\"<ipython-input-8-1e884a2e60eb>\"\u001b[1;36m, line \u001b[1;32m5\u001b[0m\n\u001b[1;33m    def convert_from_hex(hex,output_type): # converts the data in hex from hexadecimal to decimal or binary form\u001b[0m\n\u001b[1;37m    ^\u001b[0m\n\u001b[1;31mIndentationError\u001b[0m\u001b[1;31m:\u001b[0m unexpected indent\n"
     ]
    }
   ],
   "source": [
    "# do cube with stream*64*ID\n",
    "\n",
    "# ID on one-hot or binary or decimal?\n",
    "\n",
    " def convert_from_hex(hex,output_type): # converts the data in hex from hexadecimal to decimal or binary form\n",
    "     out = np.zeros((hex.size))\n",
    "     if output_type == 'dec':\n",
    "        for x in range(hex.size):\n",
    "            h_value = hex[x]\n",
    "            out[x] = int(h_value,16)\n",
    "     else:\n",
    "        for x in range(hex.size):\n",
    "            h_value = hex[x]\n",
    "            binary[x] = bin(int(h_value, 16))[2:]\n",
    "\n",
    "     return out\n",
    "\n",
    "\n",
    "data = convert_from_hex(Data,'dec')\n",
    "id = convert_from_hex(ID,'dec') "
   ]
  },
  {
   "cell_type": "code",
   "execution_count": null,
   "metadata": {},
   "outputs": [],
   "source": []
  }
 ]
}