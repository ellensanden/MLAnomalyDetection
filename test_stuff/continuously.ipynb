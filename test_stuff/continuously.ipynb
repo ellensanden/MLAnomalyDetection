{
 "metadata": {
  "language_info": {
   "codemirror_mode": {
    "name": "ipython",
    "version": 3
   },
   "file_extension": ".py",
   "mimetype": "text/x-python",
   "name": "python",
   "nbconvert_exporter": "python",
   "pygments_lexer": "ipython3",
   "version": "3.8.5"
  },
  "orig_nbformat": 2,
  "kernelspec": {
   "name": "python3",
   "display_name": "Python 3.8.5 64-bit ('tf': conda)"
  },
  "interpreter": {
   "hash": "91765243d447bc10b34282cff786081469c78a527bea45126a87448256c6538f"
  }
 },
 "nbformat": 4,
 "nbformat_minor": 2,
 "cells": [
  {
   "source": [
    "## continuously import and evaluate data"
   ],
   "cell_type": "markdown",
   "metadata": {}
  },
  {
   "cell_type": "code",
   "execution_count": 2,
   "metadata": {},
   "outputs": [
    {
     "output_type": "stream",
     "name": "stdout",
     "text": [
      "dropped 0 attack packets\n"
     ]
    }
   ],
   "source": [
    "from data_processing import process\n",
    "#s = data_processing(gear_dataset.csv)\n",
    "a = process('gear_dataset.csv',100,no_attack_packets=True)"
   ]
  },
  {
   "cell_type": "code",
   "execution_count": 4,
   "metadata": {},
   "outputs": [],
   "source": [
    "exec(open(\"data_processing.py\").read()) # to run the processing file\n",
    "# maybe better to just get the storage variable?"
   ]
  },
  {
   "cell_type": "code",
   "execution_count": 9,
   "metadata": {},
   "outputs": [],
   "source": [
    "# this uses csv while output from simulator is .log. seems like it would be faster if the .log file could be read directly\n",
    "# how to do set amount at same time? \n",
    "# need to divide into windows?\n",
    "# maybe need to include can_data = pd.read_csv(\"can_data.csv\")\n",
    "filename = \"candump-2021-02-08_150302.log\"\n",
    "import pandas as pd\n",
    "import csv\n",
    "delay = 1\n",
    "def evaluate_continuously(filename, process_file, evaluate, delay=1):\n",
    "\n",
    "    print('here')\n",
    "    csv_file = process_file(filename)\n",
    "    class waiter:     # wrapper around a file object to wait for new lines on EOF\n",
    "        def __init__(self, fd, delay=1):  \n",
    "            self.fd = fd\n",
    "            self.delay = delay\n",
    "        def __iter__(self):\n",
    "            return self\n",
    "        #def next(self):  # try to read a line of wait delay seconds\n",
    "        def __next__(self):\n",
    "            while True:\n",
    "                line = fd.readline()\n",
    "                if line:\n",
    "                    return line\n",
    "                time.sleep(self.delay)\n",
    "        # def __next__(self):  # ensure compatibility with Python3.x\n",
    "        #    return self.next()\n",
    "    print('here 2')\n",
    "    with open(csv_file, \"rb\") as fd:\n",
    "        print('here 3')\n",
    "        can_data = pd.read_csv(waiter(fd, delay), delimiter=',')\n",
    "\n",
    "        #rows = csv.reader(waiter(fd, delay), delimiter=',')\n",
    "        #rows = process_data(rows)\n",
    "        Data = can_data['Data']\n",
    "        Data = Data[1:-1]\n",
    "        Data = Data.reset_index(drop=True)\n",
    "        Data = Data.to_numpy()\n",
    "\n",
    "\n",
    "        Data = np.zeros((len(Data),64), dtype=int)\n",
    "        for currentRow in np.arange(len(Data)):\n",
    "            \n",
    "            tempString = \"\".join(Data[currentRow])\n",
    "            formatted = format(int(tempString, base=16), \"064b\")\n",
    "            Data[currentRow,:] = np.array(list(formatted), dtype=int)\n",
    "        for row in rows: # should be able to do smth here do take windows\n",
    "            error = evaluate(row)\n",
    "            threshold = 0.01\n",
    "            if any(error >= threshold):\n",
    "                print('Anomaly detected')\n",
    "                break   \n",
    "\n"
   ]
  },
  {
   "cell_type": "code",
   "execution_count": 5,
   "metadata": {},
   "outputs": [],
   "source": [
    "def evaluate(row):\n",
    "    predicted = model.predict(data)\n",
    "    error = data-predicted\n",
    "    error = np.sum(error,axis=1)\n",
    "    error = np.abs(error)\n",
    "    return error\n",
    "\n",
    "   \n",
    "def process_file(filename):\n",
    "    \n",
    "    read_file = pd.read_csv(filename, header = None)\n",
    "    read_file.to_csv (r'can_data.csv', index=None)\n",
    "    can_data = pd.read_csv(\"can_data.csv\")\n",
    "    \n",
    "    # remove vcan0\n",
    "    text = open(\"can_data.csv\", \"r\")\n",
    "    text = ''.join([i for i in text]) \\\n",
    "        .replace(\"vcan0\", \",\")\n",
    "    x = open(\"can_data.csv\",\"w\")\n",
    "    x.writelines(text)\n",
    "    x.close()\n",
    "\n",
    "    # remove hash\n",
    "    text = open(\"can_data.csv\", \"r\")\n",
    "    text = ''.join([i for i in text]) \\\n",
    "        .replace(\"#\", \",\")\n",
    "    x = open(\"can_data.csv\",\"w\")\n",
    "    x.writelines(text)\n",
    "    x.close()\n",
    "\n",
    "    # remove parenthesis\n",
    "    text = open(\"can_data.csv\", \"r\")\n",
    "    text = ''.join([i for i in text]) \\\n",
    "        .replace(\"(\", \"\")\n",
    "    x = open(\"can_data.csv\",\"w\")\n",
    "    x.writelines(text)\n",
    "    x.close()\n",
    "\n",
    "    text = open(\"can_data.csv\", \"r\")\n",
    "    text = ''.join([i for i in text]) \\\n",
    "        .replace(\")\", \"\")\n",
    "    x = open(\"can_data.csv\",\"w\")\n",
    "    x.writelines(text)\n",
    "    x.close()\n",
    "\n",
    "    # finalize\n",
    "    can_data = pd.read_csv(\"can_data.csv\",names = ['Time','ID','Data'])\n",
    "    can_data.to_csv (r'can_data.csv', index=None)\n",
    "    csv_file = \"can_data.csv\"\n",
    "    return csv_file"
   ]
  },
  {
   "cell_type": "code",
   "execution_count": null,
   "metadata": {},
   "outputs": [],
   "source": [
    "filename = \"candump-2021-02-08_150302.log\"\n",
    "import pandas as pd\n",
    "evaluated_incoming_packets = evaluate_continuously(filename, process_file, evaluate, delay=1)"
   ]
  },
  {
   "cell_type": "code",
   "execution_count": 8,
   "metadata": {},
   "outputs": [
    {
     "output_type": "error",
     "ename": "NameError",
     "evalue": "name 'csv_file' is not defined",
     "traceback": [
      "\u001b[1;31m---------------------------------------------------------------------------\u001b[0m",
      "\u001b[1;31mNameError\u001b[0m                                 Traceback (most recent call last)",
      "\u001b[1;32m<ipython-input-8-c951fee4e774>\u001b[0m in \u001b[0;36m<module>\u001b[1;34m\u001b[0m\n\u001b[1;32m----> 1\u001b[1;33m \u001b[1;32mwith\u001b[0m \u001b[0mopen\u001b[0m\u001b[1;33m(\u001b[0m\u001b[0mcsv_file\u001b[0m\u001b[1;33m,\u001b[0m \u001b[1;34m\"rb\"\u001b[0m\u001b[1;33m)\u001b[0m \u001b[1;32mas\u001b[0m \u001b[0mfd\u001b[0m\u001b[1;33m:\u001b[0m\u001b[1;33m\u001b[0m\u001b[1;33m\u001b[0m\u001b[0m\n\u001b[0m\u001b[0;32m      2\u001b[0m         \u001b[0mprint\u001b[0m\u001b[1;33m(\u001b[0m\u001b[1;34m'here 3'\u001b[0m\u001b[1;33m)\u001b[0m\u001b[1;33m\u001b[0m\u001b[1;33m\u001b[0m\u001b[0m\n\u001b[0;32m      3\u001b[0m         \u001b[0mcan_data\u001b[0m \u001b[1;33m=\u001b[0m \u001b[0mpd\u001b[0m\u001b[1;33m.\u001b[0m\u001b[0mread_csv\u001b[0m\u001b[1;33m(\u001b[0m\u001b[0mwaiter\u001b[0m\u001b[1;33m(\u001b[0m\u001b[0mfd\u001b[0m\u001b[1;33m,\u001b[0m \u001b[0mdelay\u001b[0m\u001b[1;33m)\u001b[0m\u001b[1;33m,\u001b[0m \u001b[0mdelimiter\u001b[0m\u001b[1;33m=\u001b[0m\u001b[1;34m','\u001b[0m\u001b[1;33m)\u001b[0m\u001b[1;33m\u001b[0m\u001b[1;33m\u001b[0m\u001b[0m\n\u001b[0;32m      4\u001b[0m \u001b[1;33m\u001b[0m\u001b[0m\n\u001b[0;32m      5\u001b[0m         \u001b[1;31m#rows = csv.reader(waiter(fd, delay), delimiter=',')\u001b[0m\u001b[1;33m\u001b[0m\u001b[1;33m\u001b[0m\u001b[1;33m\u001b[0m\u001b[0m\n",
      "\u001b[1;31mNameError\u001b[0m: name 'csv_file' is not defined"
     ]
    }
   ],
   "source": [
    "\n",
    "with open(csv_file, \"rb\") as fd:\n",
    "        print('here 3')\n",
    "        can_data = pd.read_csv(waiter(fd, delay), delimiter=',')\n",
    "\n",
    "        #rows = csv.reader(waiter(fd, delay), delimiter=',')\n",
    "        #rows = process_data(rows)\n",
    "        Data = can_data['Data']\n",
    "        Data = Data[1:-1]\n",
    "        Data = Data.reset_index(drop=True)\n",
    "        Data = Data.to_numpy()\n",
    "\n",
    "\n",
    "        Data = np.zeros((len(Data),64), dtype=int)\n",
    "        for currentRow in np.arange(len(Data)):\n",
    "            \n",
    "            tempString = \"\".join(Data[currentRow])\n",
    "            formatted = format(int(tempString, base=16), \"064b\")\n",
    "            Data[currentRow,:] = np.array(list(formatted), dtype=int)\n",
    "        for row in rows: # should be able to do smth here do take windows\n",
    "            error = evaluate(row)\n",
    "            threshold = 0.01\n",
    "            if any(error >= threshold):\n",
    "                print('Anomaly detected')\n",
    "                break  "
   ]
  },
  {
   "cell_type": "code",
   "execution_count": null,
   "metadata": {},
   "outputs": [],
   "source": [
    "can_data.shape[0]\n"
   ]
  },
  {
   "cell_type": "code",
   "execution_count": null,
   "metadata": {},
   "outputs": [],
   "source": []
  }
 ]
}