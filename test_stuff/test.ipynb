{
 "metadata": {
  "language_info": {
   "codemirror_mode": {
    "name": "ipython",
    "version": 3
   },
   "file_extension": ".py",
   "mimetype": "text/x-python",
   "name": "python",
   "nbconvert_exporter": "python",
   "pygments_lexer": "ipython3",
   "version": "3.8.5-final"
  },
  "orig_nbformat": 2,
  "kernelspec": {
   "name": "python3",
   "display_name": "Python 3",
   "language": "python"
  }
 },
 "nbformat": 4,
 "nbformat_minor": 2,
 "cells": [
  {
   "source": [
    "# Import and format data\n",
    "## These  (until *) don't need to be run"
   ],
   "cell_type": "markdown",
   "metadata": {}
  },
  {
   "cell_type": "code",
   "execution_count": null,
   "metadata": {},
   "outputs": [],
   "source": [
    "import pandas as pd\n",
    "# names = ['Time','ID','Data']\n",
    "read_file = pd.read_csv(\"candump-2021-02-08_150302.log\", header = None)\n",
    "read_file.to_csv (r'can_data.csv', index=None)\n",
    "can_data = pd.read_csv(\"can_data.csv\")"
   ]
  },
  {
   "cell_type": "code",
   "execution_count": null,
   "metadata": {},
   "outputs": [],
   "source": [
    "can_data"
   ]
  },
  {
   "source": [
    "### remove vcan0"
   ],
   "cell_type": "markdown",
   "metadata": {}
  },
  {
   "cell_type": "code",
   "execution_count": null,
   "metadata": {},
   "outputs": [],
   "source": [
    "text = open(\"can_data.csv\", \"r\")\n",
    "text = ''.join([i for i in text]) \\\n",
    "    .replace(\"vcan0\", \",\")\n",
    "x = open(\"can_data.csv\",\"w\")\n",
    "x.writelines(text)\n",
    "x.close()"
   ]
  },
  {
   "source": [
    "### remove hash"
   ],
   "cell_type": "markdown",
   "metadata": {}
  },
  {
   "cell_type": "code",
   "execution_count": null,
   "metadata": {},
   "outputs": [],
   "source": [
    "text = open(\"can_data.csv\", \"r\")\n",
    "text = ''.join([i for i in text]) \\\n",
    "    .replace(\"#\", \",\")\n",
    "x = open(\"can_data.csv\",\"w\")\n",
    "x.writelines(text)\n",
    "x.close()"
   ]
  },
  {
   "source": [
    "### remove parenthesis"
   ],
   "cell_type": "markdown",
   "metadata": {}
  },
  {
   "cell_type": "code",
   "execution_count": null,
   "metadata": {},
   "outputs": [],
   "source": [
    "text = open(\"can_data.csv\", \"r\")\n",
    "text = ''.join([i for i in text]) \\\n",
    "    .replace(\"(\", \"\")\n",
    "x = open(\"can_data.csv\",\"w\")\n",
    "x.writelines(text)\n",
    "x.close()\n",
    "\n",
    "text = open(\"can_data.csv\", \"r\")\n",
    "text = ''.join([i for i in text]) \\\n",
    "    .replace(\")\", \"\")\n",
    "x = open(\"can_data.csv\",\"w\")\n",
    "x.writelines(text)\n",
    "x.close()"
   ]
  },
  {
   "cell_type": "code",
   "execution_count": null,
   "metadata": {},
   "outputs": [],
   "source": [
    "can_data = pd.read_csv(\"can_data.csv\",names = ['Time','ID','Data'])\n",
    "can_data.to_csv (r'can_data.csv', index=None)\n",
    "print(can_data)\n",
    "\n"
   ]
  },
  {
   "source": [
    "# *"
   ],
   "cell_type": "markdown",
   "metadata": {}
  },
  {
   "cell_type": "code",
   "execution_count": 24,
   "metadata": {},
   "outputs": [
    {
     "output_type": "stream",
     "name": "stdout",
     "text": [
      "                Time    ID              Data\n0       0.000000e+00   NaN               NaN\n1       1.612793e+09   039              0039\n2       1.612793e+09   095  800007F400000017\n3       1.612793e+09   1A4  0000000800000010\n4       1.612793e+09   1AA  7FFF000000006711\n...              ...   ...               ...\n845498  1.612793e+09   244        00000001C0\n845499  1.612793e+09   166          D0320018\n845500  1.612793e+09   158  0000000000000019\n845501  1.612793e+09   161  000005500108001C\n845502  1.600000e+01   NaN               NaN\n\n[845503 rows x 3 columns]\n"
     ]
    }
   ],
   "source": [
    "import pandas as pd\n",
    "can_data = pd.read_csv(\"can_data.csv\")\n",
    "print(can_data)\n"
   ]
  },
  {
   "cell_type": "code",
   "execution_count": 25,
   "metadata": {},
   "outputs": [],
   "source": [
    "Time = can_data['Time']\n",
    "Time = Time[1:-1]\n",
    "Time = Time.reset_index(drop=True)\n",
    "\n",
    "ID = can_data['ID']\n",
    "ID = ID[1:-1]\n",
    "ID = ID.reset_index(drop=True)\n",
    "\n",
    "Data = can_data['Data']\n",
    "Data = Data[1:-1]\n",
    "Data = Data.reset_index(drop=True)\n",
    "\n",
    "\n"
   ]
  },
  {
   "cell_type": "code",
   "execution_count": 26,
   "metadata": {},
   "outputs": [],
   "source": [
    "import numpy as np\n",
    "\n",
    "def delta_time(Time): # calculates the time between two subsequent messages\n",
    "    delta = np.zeros((Time.size))\n",
    "    for x in range(Time.size-1):\n",
    "\n",
    "       delta[x] = Time[x+1]-Time[x]\n",
    "\n",
    "    return delta   \n",
    "\n",
    "delta = delta_time(Time)\n"
   ]
  },
  {
   "cell_type": "code",
   "execution_count": 27,
   "metadata": {},
   "outputs": [],
   "source": [
    " def convert_from_hex(hex,output_type): # converts the data in hex from hexadecimal to decimal form\n",
    "     out = np.zeros((hex.size))\n",
    "     if output_type == 'dec':\n",
    "        for x in range(hex.size):\n",
    "            h_value = hex[x]\n",
    "            out[x] = int(h_value,16)\n",
    "     else:\n",
    "        for x in range(hex.size):\n",
    "            h_value = hex[x]\n",
    "            binary[x] = bin(int(h_value, 16))[2:]\n",
    "\n",
    "     return out\n",
    "\n",
    "\n",
    "data = convert_from_hex(Data,'dec')\n",
    "id = convert_from_hex(ID,'dec')"
   ]
  },
  {
   "cell_type": "code",
   "execution_count": null,
   "metadata": {},
   "outputs": [],
   "source": []
  },
  {
   "cell_type": "code",
   "execution_count": 28,
   "metadata": {},
   "outputs": [
    {
     "output_type": "error",
     "ename": "TypeError",
     "evalue": "convert_from_hex() missing 1 required positional argument: 'output_type'",
     "traceback": [
      "\u001b[1;31m---------------------------------------------------------------------------\u001b[0m",
      "\u001b[1;31mTypeError\u001b[0m                                 Traceback (most recent call last)",
      "\u001b[1;32m<ipython-input-28-4c4c32a42c14>\u001b[0m in \u001b[0;36m<module>\u001b[1;34m\u001b[0m\n\u001b[0;32m      8\u001b[0m \u001b[1;33m\u001b[0m\u001b[0m\n\u001b[0;32m      9\u001b[0m \u001b[1;33m\u001b[0m\u001b[0m\n\u001b[1;32m---> 10\u001b[1;33m \u001b[0mdata\u001b[0m \u001b[1;33m=\u001b[0m \u001b[0mconvert_from_hex\u001b[0m\u001b[1;33m(\u001b[0m\u001b[0mData\u001b[0m\u001b[1;33m)\u001b[0m\u001b[1;33m\u001b[0m\u001b[1;33m\u001b[0m\u001b[0m\n\u001b[0m\u001b[0;32m     11\u001b[0m \u001b[0mid\u001b[0m \u001b[1;33m=\u001b[0m \u001b[0mconvert_to_bin\u001b[0m\u001b[1;33m(\u001b[0m\u001b[0mID\u001b[0m\u001b[1;33m)\u001b[0m\u001b[1;33m\u001b[0m\u001b[1;33m\u001b[0m\u001b[0m\n",
      "\u001b[1;31mTypeError\u001b[0m: convert_from_hex() missing 1 required positional argument: 'output_type'"
     ]
    }
   ],
   "source": [
    " def convert_to_bin(hex): # converts the data in hex from hexadecimal to decimal form\n",
    "     binary = np.zeros((hex.size))\n",
    "\n",
    "     for x in range(hex.size):\n",
    "         h_value = hex[x]\n",
    "         binary[x] = bin(int(h_value, 16))[2:]\n",
    "     return binary\n",
    "\n",
    "\n",
    "data = convert_from_hex(Data)\n",
    "id = convert_to_bin(ID)"
   ]
  },
  {
   "cell_type": "code",
   "execution_count": 119,
   "metadata": {},
   "outputs": [
    {
     "output_type": "execute_result",
     "data": {
      "text/plain": [
       "110110000.0"
      ]
     },
     "metadata": {},
     "execution_count": 119
    }
   ],
   "source": [
    "id[4]"
   ]
  },
  {
   "source": [
    "## Normalize data"
   ],
   "cell_type": "markdown",
   "metadata": {}
  },
  {
   "cell_type": "code",
   "execution_count": null,
   "metadata": {},
   "outputs": [],
   "source": [
    "from sklearn.preprocessing import MinMaxScaler\n",
    "\n",
    "scaler = MinMaxScaler(feature_range=(0, 1))\n",
    "data = data.reshape(-1, 1)\n",
    "#data = scaler.fit_transform(data)\n",
    "id = id.reshape(-1, 1)\n",
    "id = scaler.fit_transform(id)"
   ]
  },
  {
   "source": [
    "## Visualize data"
   ],
   "cell_type": "markdown",
   "metadata": {}
  },
  {
   "cell_type": "code",
   "execution_count": null,
   "metadata": {},
   "outputs": [],
   "source": [
    "from matplotlib import pyplot as plt\n",
    "\n",
    "plt.figure()\n",
    "plt.plot(Time[0:10000],data[0:10000],'o')\n",
    "plt.xlabel('Time')\n",
    "plt.ylabel('Data')\n",
    "\n",
    "plt.figure()\n",
    "plt.plot(Time[0:10000],id[0:10000],'o')\n",
    "plt.xlabel('Time')\n",
    "plt.ylabel('ID')\n",
    "\n",
    "plt.figure()\n",
    "plt.plot(data[0:10000],id[0:10000],'o')\n",
    "plt.xlabel('Data')\n",
    "plt.ylabel('ID')\n",
    "\n",
    "\n"
   ]
  },
  {
   "cell_type": "code",
   "execution_count": null,
   "metadata": {},
   "outputs": [],
   "source": [
    "steps = range(Time.size)\n",
    "plt.figure()\n",
    "plt.plot(steps[0:100000],delta[0:100000])"
   ]
  },
  {
   "cell_type": "code",
   "execution_count": null,
   "metadata": {},
   "outputs": [],
   "source": [
    "def sort_IDs(id): # returns groups of indices of unique ids in list \n",
    "\n",
    "    idx_sort = np.argsort(id)\n",
    "    sorted_ids = id[idx_sort]\n",
    "    vals, idx_start, count = np.unique(sorted_ids, return_counts=True, return_index=True)\n",
    "    indices = np.split(idx_sort, idx_start[1:])\n",
    "\n",
    "    return indices\n",
    "\n",
    "\n",
    "\n"
   ]
  },
  {
   "cell_type": "code",
   "execution_count": null,
   "metadata": {},
   "outputs": [],
   "source": [
    "transposed_id = np.transpose(id) # not sure why it needs to be transposed but it doesn't work otherwise\n",
    "indices = sort_IDs(transposed_id[0][:])\n",
    "\n",
    "\n"
   ]
  },
  {
   "cell_type": "code",
   "execution_count": null,
   "metadata": {},
   "outputs": [],
   "source": [
    "def get_data_stream(indices,data): # collects the unique ids with their respective data streams\n",
    "\n",
    "    num_unique_ids = len(indices)\n",
    "    all_ids = []\n",
    "    for x in range(num_unique_ids):\n",
    "         \n",
    "         id_data = data[indices[x]]\n",
    "         all_ids.append(id_data)\n",
    "\n",
    "    return all_ids\n",
    "\n",
    "all_id_data = get_data_stream(indices,data)  "
   ]
  },
  {
   "cell_type": "code",
   "execution_count": null,
   "metadata": {},
   "outputs": [],
   "source": [
    " # combines each unique id with its data stream in a matrix where the ID is in the first row, and its data stream is (ordered)\n",
    " # in the column under it. (one column = ID: data1,data2,..). column length = max data length, if data doesn't fill upp all rows they are filled with nan. \n",
    "def combine_ids_data(indices,id,all_id_data):\n",
    "    i = -1\n",
    "    ids_and_data = np.ones((np.max([len(pi) for pi in all_id_data])+1,len(all_id_data)))*np.nan \n",
    "\n",
    "    for x in indices:\n",
    "        i = i+ 1\n",
    "        index = indices[i] \n",
    "        index = index[0] # only save first one in group\n",
    "        ID = id[index]\n",
    "\n",
    "        data_stream = all_id_data[i]\n",
    "        data_stream = data_stream[:,0] \n",
    "        ids_and_data[0,i] = ID\n",
    "        ids_and_data[1:len(data_stream)+1,i] = data_stream\n",
    "\n",
    "    return ids_and_data\n",
    "\n",
    "d = combine_ids_data(indices,id,all_id_data)"
   ]
  },
  {
   "cell_type": "code",
   "execution_count": null,
   "metadata": {},
   "outputs": [],
   "source": [
    "\n",
    "print(f'Number of individual IDs in the full sequence = {len(d[0,:])}')\n",
    "print(f'Maximum number of data packets per ID = {np.max([len(pi) for pi in all_id_data])}')"
   ]
  },
  {
   "cell_type": "code",
   "execution_count": null,
   "metadata": {},
   "outputs": [],
   "source": [
    "plt.plot(np.arange(100),d[0:100,0],'-o')"
   ]
  },
  {
   "source": [
    "# Copied"
   ],
   "cell_type": "markdown",
   "metadata": {}
  },
  {
   "cell_type": "code",
   "execution_count": 38,
   "metadata": {},
   "outputs": [],
   "source": [
    "# split a univariate sequence into samples\n",
    "from numpy import array\n",
    "\n",
    "\n",
    "def split_sequence(sequence, n_steps):\n",
    "\tX, y = list(), list()\n",
    "\tfor i in range(len(sequence)):\n",
    "\t\t# find the end of this pattern\n",
    "\t\tend_ix = i + n_steps\n",
    "\t\t# check if we are beyond the sequence\n",
    "\t\tif end_ix > len(sequence)-1:\n",
    "\t\t\tbreak\n",
    "\t\t# gather input and output parts of the pattern\n",
    "\t\tseq_x, seq_y = sequence[i:end_ix], sequence[end_ix]\n",
    "\t\tX.append(seq_x)\n",
    "\t\ty.append(seq_y)\n",
    "\treturn array(X), array(y)"
   ]
  },
  {
   "cell_type": "code",
   "execution_count": 39,
   "metadata": {},
   "outputs": [],
   "source": [
    "def remove_nans(input): # remove nans from data stream column\n",
    "    input_nans = np.isnan(input) \n",
    "    not_nan = ~ input_nans\n",
    "    clean_input = input[not_nan]\n",
    "    return clean_input"
   ]
  },
  {
   "cell_type": "code",
   "execution_count": 58,
   "metadata": {},
   "outputs": [],
   "source": [
    "from numpy import array\n",
    "\n",
    "\n",
    "def split_sequence(sequence, n_steps):\n",
    "    X, y = list(), list()\n",
    "    for i in range(len(sequence)):\n",
    "\t\t# find the end of this pattern\n",
    "        end_ix = i + n_steps\n",
    "        end_iy = end_ix + n_steps \n",
    "\t\t# check if we are beyond the sequence\n",
    "        if end_iy > len(sequence)-1:\n",
    "            break\n",
    "\t\t# gather input and output parts of the pattern\n",
    "        seq_x, seq_y = sequence[i:end_ix], sequence[end_ix:end_iy]\n",
    "        X.append(seq_x)\n",
    "        y.append(seq_y)\n",
    "    return array(X), array(y)"
   ]
  },
  {
   "cell_type": "code",
   "execution_count": 76,
   "metadata": {},
   "outputs": [],
   "source": [
    "n_steps = 5\n",
    "seq = remove_nans(d[:,0])   \n",
    "\n",
    "nTrain = round(0.9*len(seq))\n",
    "nTest = len(seq)-nTrain\n",
    "xTrain = seq[0:nTrain]\n",
    "xTest = seq[nTrain:len(seq)]\n",
    "\n",
    "X_train, y_train = split_sequence(xTrain, n_steps)\n",
    "X_test, y_test = split_sequence(xTest, n_steps)\n",
    "\n"
   ]
  },
  {
   "cell_type": "code",
   "execution_count": 78,
   "metadata": {},
   "outputs": [
    {
     "output_type": "execute_result",
     "data": {
      "text/plain": [
       "(2835, 5)"
      ]
     },
     "metadata": {},
     "execution_count": 78
    }
   ],
   "source": [
    "X_test.shape"
   ]
  },
  {
   "cell_type": "code",
   "execution_count": 97,
   "metadata": {},
   "outputs": [
    {
     "output_type": "stream",
     "name": "stderr",
     "text": [
      "'pip' is not recognized as an internal or external command,\n",
      "operable program or batch file.\n",
      "'pip' is not recognized as an internal or external command,\n",
      "operable program or batch file.\n"
     ]
    }
   ],
   "source": [
    "! pip install tensorflow\n",
    "! pip install keras\n",
    "from tensorflow import keras\n",
    "from keras.models import Sequential\n",
    "from keras.layers import LSTM\n",
    "from keras.layers import Dense\n",
    "from keras.layers import RepeatVector\n",
    "from keras.layers import TimeDistributed\n",
    "from keras.layers import Dropout\n",
    "from keras.callbacks import EarlyStopping"
   ]
  },
  {
   "cell_type": "code",
   "execution_count": 75,
   "metadata": {},
   "outputs": [],
   "source": [
    "# reshape from [samples, timesteps] into [samples, timesteps, features]\n",
    "n_features = 1\n",
    "X_test = X_test.reshape((X_test.shape[0], X_test.shape[1], n_features))\n",
    "X_train = X_train.reshape((X_train.shape[0], X_train.shape[1], n_features))"
   ]
  },
  {
   "cell_type": "code",
   "execution_count": 2,
   "metadata": {},
   "outputs": [
    {
     "output_type": "error",
     "ename": "NameError",
     "evalue": "name 'n_steps' is not defined",
     "traceback": [
      "\u001b[1;31m---------------------------------------------------------------------------\u001b[0m",
      "\u001b[1;31mNameError\u001b[0m                                 Traceback (most recent call last)",
      "\u001b[1;32m<ipython-input-2-012c29d43d06>\u001b[0m in \u001b[0;36m<module>\u001b[1;34m\u001b[0m\n\u001b[0;32m      1\u001b[0m \u001b[1;31m# define model\u001b[0m\u001b[1;33m\u001b[0m\u001b[1;33m\u001b[0m\u001b[1;33m\u001b[0m\u001b[0m\n\u001b[0;32m      2\u001b[0m \u001b[0mmodel\u001b[0m \u001b[1;33m=\u001b[0m \u001b[0mSequential\u001b[0m\u001b[1;33m(\u001b[0m\u001b[1;33m)\u001b[0m\u001b[1;33m\u001b[0m\u001b[1;33m\u001b[0m\u001b[0m\n\u001b[1;32m----> 3\u001b[1;33m \u001b[0mmodel\u001b[0m\u001b[1;33m.\u001b[0m\u001b[0madd\u001b[0m\u001b[1;33m(\u001b[0m\u001b[0mLSTM\u001b[0m\u001b[1;33m(\u001b[0m\u001b[1;36m50\u001b[0m\u001b[1;33m,\u001b[0m \u001b[0mactivation\u001b[0m\u001b[1;33m=\u001b[0m\u001b[1;34m'relu'\u001b[0m\u001b[1;33m,\u001b[0m \u001b[0minput_shape\u001b[0m\u001b[1;33m=\u001b[0m\u001b[1;33m(\u001b[0m\u001b[0mn_steps\u001b[0m\u001b[1;33m,\u001b[0m \u001b[0mn_features\u001b[0m\u001b[1;33m)\u001b[0m\u001b[1;33m)\u001b[0m\u001b[1;33m)\u001b[0m\u001b[1;33m\u001b[0m\u001b[1;33m\u001b[0m\u001b[0m\n\u001b[0m\u001b[0;32m      4\u001b[0m \u001b[0mmodel\u001b[0m\u001b[1;33m.\u001b[0m\u001b[0madd\u001b[0m\u001b[1;33m(\u001b[0m\u001b[0mDense\u001b[0m\u001b[1;33m(\u001b[0m\u001b[1;36m1\u001b[0m\u001b[1;33m)\u001b[0m\u001b[1;33m)\u001b[0m\u001b[1;33m\u001b[0m\u001b[1;33m\u001b[0m\u001b[0m\n\u001b[0;32m      5\u001b[0m \u001b[0mmodel\u001b[0m\u001b[1;33m.\u001b[0m\u001b[0mcompile\u001b[0m\u001b[1;33m(\u001b[0m\u001b[0moptimizer\u001b[0m\u001b[1;33m=\u001b[0m\u001b[1;34m'adam'\u001b[0m\u001b[1;33m,\u001b[0m \u001b[0mloss\u001b[0m\u001b[1;33m=\u001b[0m\u001b[1;34m'mse'\u001b[0m\u001b[1;33m)\u001b[0m\u001b[1;33m\u001b[0m\u001b[1;33m\u001b[0m\u001b[0m\n",
      "\u001b[1;31mNameError\u001b[0m: name 'n_steps' is not defined"
     ]
    }
   ],
   "source": [
    "# define model\n",
    "model = Sequential()\n",
    "model.add(LSTM(50, activation='relu', input_shape=(n_steps, n_features)))\n",
    "model.add(Dense(1))\n",
    "model.compile(optimizer='adam', loss='mse')"
   ]
  },
  {
   "cell_type": "code",
   "execution_count": 7,
   "metadata": {},
   "outputs": [
    {
     "output_type": "stream",
     "name": "stdout",
     "text": [
      "(None, 100)\n(None, 5, 100)\n"
     ]
    }
   ],
   "source": [
    "\n",
    "# define model (autoencoder)\n",
    "n_steps = 5\n",
    "model = Sequential()\n",
    "model.add(LSTM(100, activation='relu', input_shape=(n_steps,1)))\n",
    "print(model.output_shape)\n",
    "model.add(RepeatVector(n_steps))\n",
    "print(model.output_shape)\n",
    "model.add(LSTM(100, activation='relu', return_sequences=True))\n",
    "model.add(TimeDistributed(Dense(1)))\n",
    "model.compile(optimizer='adam', loss='mse')\n"
   ]
  },
  {
   "source": [
    "# canolo\n",
    "model = Sequential()\n",
    "\n",
    "# Encoder\n",
    "model.add(Dense(256, activation='tanh', input_shape=(n_steps,1)))\n",
    "model.add(Dropout(0.2))\n",
    "model.add(LSTM(128))\n",
    "model.add(RepeatVector(n_steps))\n",
    "model.add(LSTM(128))\n",
    "model.add(RepeatVector(n_steps))\n",
    "\n",
    "# Decoder\n",
    "model.add(LSTM(128))\n",
    "model.add(RepeatVector(n_steps))\n",
    "model.add(LSTM(128, return_sequences=True))\n",
    "model.add(Dense(256, activation= 'sigmoid'))\n",
    "model.add(Dense(1)) # they don't mention this in the article but dimensions are wrong otherwise\n",
    "\n",
    "model.compile(optimizer='adam', loss='BinaryCrossentropy')\n",
    "model.summary()\n",
    "\n",
    "\n"
   ],
   "cell_type": "code",
   "metadata": {},
   "execution_count": 102,
   "outputs": [
    {
     "output_type": "stream",
     "name": "stdout",
     "text": [
      "Model: \"sequential_40\"\n_________________________________________________________________\nLayer (type)                 Output Shape              Param #   \n=================================================================\ndense_72 (Dense)             (None, 15, 256)           512       \n_________________________________________________________________\ndropout_36 (Dropout)         (None, 15, 256)           0         \n_________________________________________________________________\nlstm_119 (LSTM)              (None, 128)               197120    \n_________________________________________________________________\nrepeat_vector_88 (RepeatVect (None, 15, 128)           0         \n_________________________________________________________________\nlstm_120 (LSTM)              (None, 128)               131584    \n_________________________________________________________________\nrepeat_vector_89 (RepeatVect (None, 15, 128)           0         \n_________________________________________________________________\nlstm_121 (LSTM)              (None, 128)               131584    \n_________________________________________________________________\nrepeat_vector_90 (RepeatVect (None, 15, 128)           0         \n_________________________________________________________________\nlstm_122 (LSTM)              (None, 15, 128)           131584    \n_________________________________________________________________\ndense_73 (Dense)             (None, 15, 256)           33024     \n_________________________________________________________________\ndense_74 (Dense)             (None, 15, 1)             257       \n=================================================================\nTotal params: 625,665\nTrainable params: 625,665\nNon-trainable params: 0\n_________________________________________________________________\n"
     ]
    }
   ]
  },
  {
   "cell_type": "code",
   "execution_count": 80,
   "metadata": {},
   "outputs": [],
   "source": [
    "nums = array([1,2,3,4,5,6,7,8,9,10,11,12,13,141,5])\n",
    "test_nums = array([1, 1, 1, 2, 6, 2, 4, 2, 3, 8, 7, 6, 2, 3, 14])\n",
    "rev_nums = nums[::-1]\n",
    "rev_test_nums = test_nums[::-1]\n",
    "n_features = 1\n",
    "#X_test = test_nums.reshape((test_nums.shape[0], test_nums.shape[1], n_features))\n",
    "#y_test = rev_test_nums.reshape((rev_test_nums.shape[0], rev_test_nums.shape[1], n_features))\n",
    "#X_train = nums.reshape((nums.shape[0], nums.shape[1], n_features))\n",
    "#y_train = rev_nums.reshape((rev_nums.shape[0], rev_nums.shape[1], n_features))\n",
    "X_test = test_nums.reshape((1, 15, n_features))\n",
    "y_test = rev_test_nums.reshape((1, 15, n_features))\n",
    "X_train = nums.reshape((1, 15, n_features))\n",
    "y_train = rev_nums.reshape((1, 15, n_features))\n",
    "n_steps = 15"
   ]
  },
  {
   "cell_type": "code",
   "execution_count": 104,
   "metadata": {
    "tags": []
   },
   "outputs": [
    {
     "output_type": "stream",
     "name": "stdout",
     "text": [
      "Epoch 1/500\n",
      "1/1 - 0s - loss: 243.7142 - val_loss: 63.7565\n",
      "Epoch 2/500\n",
      "1/1 - 0s - loss: 243.7142 - val_loss: 63.7565\n",
      "Epoch 3/500\n",
      "1/1 - 0s - loss: 243.7142 - val_loss: 63.7565\n",
      "Epoch 4/500\n",
      "1/1 - 0s - loss: 243.7142 - val_loss: 63.7565\n",
      "Epoch 5/500\n",
      "1/1 - 0s - loss: 243.7142 - val_loss: 63.7565\n",
      "Epoch 6/500\n",
      "1/1 - 0s - loss: 243.7142 - val_loss: 63.7565\n",
      "Epoch 7/500\n",
      "1/1 - 0s - loss: 243.7142 - val_loss: 63.7565\n",
      "Epoch 8/500\n",
      "1/1 - 0s - loss: 243.7142 - val_loss: 63.7565\n",
      "Epoch 9/500\n",
      "1/1 - 0s - loss: 243.7142 - val_loss: 63.7565\n",
      "Epoch 10/500\n",
      "1/1 - 0s - loss: 243.7142 - val_loss: 63.7565\n",
      "Epoch 11/500\n",
      "1/1 - 0s - loss: 243.7142 - val_loss: 63.7565\n",
      "Epoch 12/500\n",
      "1/1 - 0s - loss: 243.7142 - val_loss: 63.7565\n",
      "Epoch 13/500\n",
      "1/1 - 0s - loss: 243.7142 - val_loss: 63.7565\n",
      "Epoch 14/500\n",
      "1/1 - 0s - loss: 243.7142 - val_loss: 63.7565\n",
      "Epoch 15/500\n",
      "1/1 - 0s - loss: 243.7142 - val_loss: 63.7565\n",
      "Epoch 16/500\n",
      "1/1 - 0s - loss: 243.7142 - val_loss: 63.7565\n",
      "Epoch 17/500\n",
      "1/1 - 0s - loss: 243.7142 - val_loss: 63.7565\n",
      "Epoch 18/500\n",
      "1/1 - 0s - loss: 243.7142 - val_loss: 63.7565\n",
      "Epoch 19/500\n",
      "1/1 - 0s - loss: 243.7142 - val_loss: 63.7565\n",
      "Epoch 20/500\n",
      "1/1 - 0s - loss: 243.7142 - val_loss: 63.7565\n",
      "Epoch 21/500\n",
      "1/1 - 0s - loss: 243.7142 - val_loss: 63.7565\n",
      "Epoch 22/500\n",
      "1/1 - 0s - loss: 243.7142 - val_loss: 63.7565\n",
      "Epoch 23/500\n",
      "1/1 - 0s - loss: 243.7142 - val_loss: 63.7565\n",
      "Epoch 24/500\n",
      "1/1 - 0s - loss: 243.7142 - val_loss: 63.7565\n",
      "Epoch 25/500\n",
      "1/1 - 0s - loss: 243.7142 - val_loss: 63.7565\n",
      "Epoch 26/500\n",
      "1/1 - 0s - loss: 243.7142 - val_loss: 63.7565\n",
      "Epoch 27/500\n",
      "1/1 - 0s - loss: 243.7142 - val_loss: 63.7565\n",
      "Epoch 28/500\n",
      "1/1 - 0s - loss: 243.7142 - val_loss: 63.7565\n",
      "Epoch 29/500\n",
      "1/1 - 0s - loss: 243.7142 - val_loss: 63.7565\n",
      "Epoch 30/500\n",
      "1/1 - 0s - loss: 243.7142 - val_loss: 63.7565\n",
      "Epoch 31/500\n",
      "1/1 - 0s - loss: 243.7142 - val_loss: 63.7565\n",
      "Epoch 32/500\n",
      "1/1 - 0s - loss: 243.7142 - val_loss: 63.7565\n",
      "Epoch 33/500\n",
      "1/1 - 0s - loss: 243.7142 - val_loss: 63.7565\n",
      "Epoch 34/500\n",
      "1/1 - 0s - loss: 243.7142 - val_loss: 63.7565\n",
      "Epoch 35/500\n",
      "1/1 - 0s - loss: 243.7142 - val_loss: 63.7565\n",
      "Epoch 36/500\n",
      "1/1 - 0s - loss: 243.7142 - val_loss: 63.7565\n",
      "Epoch 37/500\n",
      "1/1 - 0s - loss: 243.7142 - val_loss: 63.7565\n",
      "Epoch 38/500\n",
      "1/1 - 0s - loss: 243.7142 - val_loss: 63.7565\n",
      "Epoch 39/500\n",
      "1/1 - 0s - loss: 243.7142 - val_loss: 63.7565\n",
      "Epoch 40/500\n",
      "1/1 - 0s - loss: 243.7142 - val_loss: 63.7565\n",
      "Epoch 41/500\n",
      "1/1 - 0s - loss: 243.7142 - val_loss: 63.7565\n",
      "Epoch 42/500\n",
      "1/1 - 0s - loss: 243.7142 - val_loss: 63.7565\n",
      "Epoch 43/500\n",
      "1/1 - 0s - loss: 243.7142 - val_loss: 63.7565\n",
      "Epoch 44/500\n",
      "1/1 - 0s - loss: 243.7142 - val_loss: 63.7565\n",
      "Epoch 45/500\n",
      "1/1 - 0s - loss: 243.7142 - val_loss: 63.7565\n",
      "Epoch 46/500\n",
      "1/1 - 0s - loss: 243.7142 - val_loss: 63.7565\n",
      "Epoch 47/500\n",
      "1/1 - 0s - loss: 243.7142 - val_loss: 63.7565\n",
      "Epoch 48/500\n",
      "1/1 - 0s - loss: 243.7142 - val_loss: 63.7565\n",
      "Epoch 49/500\n",
      "1/1 - 0s - loss: 243.7142 - val_loss: 63.7565\n",
      "Epoch 50/500\n",
      "1/1 - 0s - loss: 243.7142 - val_loss: 63.7565\n",
      "Epoch 51/500\n",
      "1/1 - 0s - loss: 243.7142 - val_loss: 63.7565\n",
      "Epoch 52/500\n",
      "1/1 - 0s - loss: 243.7142 - val_loss: 63.7565\n",
      "Epoch 53/500\n",
      "1/1 - 0s - loss: 243.7142 - val_loss: 63.7565\n",
      "Epoch 54/500\n",
      "1/1 - 0s - loss: 243.7142 - val_loss: 63.7565\n",
      "Epoch 55/500\n",
      "1/1 - 0s - loss: 243.7142 - val_loss: 63.7565\n",
      "Epoch 56/500\n",
      "1/1 - 0s - loss: 243.7142 - val_loss: 63.7565\n",
      "Epoch 57/500\n",
      "1/1 - 0s - loss: 243.7142 - val_loss: 63.7565\n",
      "Epoch 58/500\n",
      "1/1 - 0s - loss: 243.7142 - val_loss: 63.7565\n",
      "Epoch 59/500\n",
      "1/1 - 0s - loss: 243.7142 - val_loss: 63.7565\n",
      "Epoch 60/500\n",
      "1/1 - 0s - loss: 243.7142 - val_loss: 63.7565\n",
      "Epoch 61/500\n",
      "1/1 - 0s - loss: 243.7142 - val_loss: 63.7565\n",
      "Epoch 62/500\n",
      "1/1 - 0s - loss: 243.7142 - val_loss: 63.7565\n",
      "Epoch 63/500\n",
      "1/1 - 0s - loss: 243.7142 - val_loss: 63.7565\n",
      "Epoch 64/500\n",
      "1/1 - 0s - loss: 243.7142 - val_loss: 63.7565\n",
      "Epoch 65/500\n",
      "1/1 - 0s - loss: 243.7142 - val_loss: 63.7565\n",
      "Epoch 66/500\n",
      "1/1 - 0s - loss: 243.7142 - val_loss: 63.7565\n",
      "Epoch 67/500\n",
      "1/1 - 0s - loss: 243.7142 - val_loss: 63.7565\n",
      "Epoch 68/500\n",
      "1/1 - 0s - loss: 243.7142 - val_loss: 63.7565\n",
      "Epoch 69/500\n",
      "1/1 - 0s - loss: 243.7142 - val_loss: 63.7565\n",
      "Epoch 70/500\n",
      "1/1 - 0s - loss: 243.7142 - val_loss: 63.7565\n",
      "Epoch 71/500\n",
      "1/1 - 0s - loss: 243.7142 - val_loss: 63.7565\n",
      "Epoch 72/500\n",
      "1/1 - 0s - loss: 243.7142 - val_loss: 63.7565\n",
      "Epoch 73/500\n",
      "1/1 - 0s - loss: 243.7142 - val_loss: 63.7565\n",
      "Epoch 74/500\n",
      "1/1 - 0s - loss: 243.7142 - val_loss: 63.7565\n",
      "Epoch 75/500\n",
      "1/1 - 0s - loss: 243.7142 - val_loss: 63.7565\n",
      "Epoch 76/500\n",
      "1/1 - 0s - loss: 243.7142 - val_loss: 63.7565\n",
      "Epoch 77/500\n",
      "1/1 - 0s - loss: 243.7142 - val_loss: 63.7565\n",
      "Epoch 78/500\n",
      "1/1 - 0s - loss: 243.7142 - val_loss: 63.7565\n",
      "Epoch 79/500\n",
      "1/1 - 0s - loss: 243.7142 - val_loss: 63.7565\n",
      "Epoch 80/500\n",
      "1/1 - 0s - loss: 243.7142 - val_loss: 63.7565\n",
      "Epoch 81/500\n",
      "1/1 - 0s - loss: 243.7142 - val_loss: 63.7565\n",
      "Epoch 82/500\n",
      "1/1 - 0s - loss: 243.7142 - val_loss: 63.7565\n",
      "Epoch 83/500\n",
      "1/1 - 0s - loss: 243.7142 - val_loss: 63.7565\n",
      "Epoch 84/500\n",
      "1/1 - 0s - loss: 243.7142 - val_loss: 63.7565\n",
      "Epoch 85/500\n",
      "1/1 - 0s - loss: 243.7142 - val_loss: 63.7565\n",
      "Epoch 86/500\n",
      "1/1 - 0s - loss: 243.7142 - val_loss: 63.7565\n",
      "Epoch 87/500\n",
      "1/1 - 0s - loss: 243.7142 - val_loss: 63.7565\n",
      "Epoch 88/500\n",
      "1/1 - 0s - loss: 243.7142 - val_loss: 63.7565\n",
      "Epoch 89/500\n",
      "1/1 - 0s - loss: 243.7142 - val_loss: 63.7565\n",
      "Epoch 90/500\n",
      "1/1 - 0s - loss: 243.7142 - val_loss: 63.7565\n",
      "Epoch 91/500\n",
      "1/1 - 0s - loss: 243.7142 - val_loss: 63.7565\n",
      "Epoch 92/500\n",
      "1/1 - 0s - loss: 243.7142 - val_loss: 63.7565\n",
      "Epoch 93/500\n",
      "1/1 - 0s - loss: 243.7142 - val_loss: 63.7565\n",
      "Epoch 94/500\n",
      "1/1 - 0s - loss: 243.7142 - val_loss: 63.7565\n",
      "Epoch 95/500\n",
      "1/1 - 0s - loss: 243.7142 - val_loss: 63.7565\n",
      "Epoch 96/500\n",
      "1/1 - 0s - loss: 243.7142 - val_loss: 63.7565\n",
      "Epoch 97/500\n",
      "1/1 - 0s - loss: 243.7142 - val_loss: 63.7565\n",
      "Epoch 98/500\n",
      "1/1 - 0s - loss: 243.7142 - val_loss: 63.7565\n",
      "Epoch 99/500\n",
      "1/1 - 0s - loss: 243.7142 - val_loss: 63.7565\n",
      "Epoch 100/500\n",
      "1/1 - 0s - loss: 243.7142 - val_loss: 63.7565\n",
      "Epoch 101/500\n",
      "1/1 - 0s - loss: 243.7142 - val_loss: 63.7565\n",
      "Epoch 00101: early stopping\n"
     ]
    },
    {
     "output_type": "display_data",
     "data": {
      "text/plain": "<Figure size 432x288 with 1 Axes>",
      "image/svg+xml": "<?xml version=\"1.0\" encoding=\"utf-8\" standalone=\"no\"?>\r\n<!DOCTYPE svg PUBLIC \"-//W3C//DTD SVG 1.1//EN\"\r\n  \"http://www.w3.org/Graphics/SVG/1.1/DTD/svg11.dtd\">\r\n<!-- Created with matplotlib (https://matplotlib.org/) -->\r\n<svg height=\"249.338294pt\" version=\"1.1\" viewBox=\"0 0 375.2875 249.338294\" width=\"375.2875pt\" xmlns=\"http://www.w3.org/2000/svg\" xmlns:xlink=\"http://www.w3.org/1999/xlink\">\r\n <metadata>\r\n  <rdf:RDF xmlns:cc=\"http://creativecommons.org/ns#\" xmlns:dc=\"http://purl.org/dc/elements/1.1/\" xmlns:rdf=\"http://www.w3.org/1999/02/22-rdf-syntax-ns#\">\r\n   <cc:Work>\r\n    <dc:type rdf:resource=\"http://purl.org/dc/dcmitype/StillImage\"/>\r\n    <dc:date>2021-03-03T18:00:03.028143</dc:date>\r\n    <dc:format>image/svg+xml</dc:format>\r\n    <dc:creator>\r\n     <cc:Agent>\r\n      <dc:title>Matplotlib v3.3.4, https://matplotlib.org/</dc:title>\r\n     </cc:Agent>\r\n    </dc:creator>\r\n   </cc:Work>\r\n  </rdf:RDF>\r\n </metadata>\r\n <defs>\r\n  <style type=\"text/css\">*{stroke-linecap:butt;stroke-linejoin:round;}</style>\r\n </defs>\r\n <g id=\"figure_1\">\r\n  <g id=\"patch_1\">\r\n   <path d=\"M 0 249.338294 \r\nL 375.2875 249.338294 \r\nL 375.2875 0 \r\nL 0 0 \r\nz\r\n\" style=\"fill:none;\"/>\r\n  </g>\r\n  <g id=\"axes_1\">\r\n   <g id=\"patch_2\">\r\n    <path d=\"M 33.2875 225.460169 \r\nL 368.0875 225.460169 \r\nL 368.0875 8.020169 \r\nL 33.2875 8.020169 \r\nz\r\n\" style=\"fill:#ffffff;\"/>\r\n   </g>\r\n   <g id=\"matplotlib.axis_1\">\r\n    <g id=\"xtick_1\">\r\n     <g id=\"line2d_1\">\r\n      <defs>\r\n       <path d=\"M 0 0 \r\nL 0 3.5 \r\n\" id=\"m989fb081c5\" style=\"stroke:#000000;stroke-width:0.8;\"/>\r\n      </defs>\r\n      <g>\r\n       <use style=\"stroke:#000000;stroke-width:0.8;\" x=\"48.505682\" xlink:href=\"#m989fb081c5\" y=\"225.460169\"/>\r\n      </g>\r\n     </g>\r\n     <g id=\"text_1\">\r\n      <!-- 0 -->\r\n      <g transform=\"translate(45.324432 240.058606)scale(0.1 -0.1)\">\r\n       <defs>\r\n        <path d=\"M 31.78125 66.40625 \r\nQ 24.171875 66.40625 20.328125 58.90625 \r\nQ 16.5 51.421875 16.5 36.375 \r\nQ 16.5 21.390625 20.328125 13.890625 \r\nQ 24.171875 6.390625 31.78125 6.390625 \r\nQ 39.453125 6.390625 43.28125 13.890625 \r\nQ 47.125 21.390625 47.125 36.375 \r\nQ 47.125 51.421875 43.28125 58.90625 \r\nQ 39.453125 66.40625 31.78125 66.40625 \r\nz\r\nM 31.78125 74.21875 \r\nQ 44.046875 74.21875 50.515625 64.515625 \r\nQ 56.984375 54.828125 56.984375 36.375 \r\nQ 56.984375 17.96875 50.515625 8.265625 \r\nQ 44.046875 -1.421875 31.78125 -1.421875 \r\nQ 19.53125 -1.421875 13.0625 8.265625 \r\nQ 6.59375 17.96875 6.59375 36.375 \r\nQ 6.59375 54.828125 13.0625 64.515625 \r\nQ 19.53125 74.21875 31.78125 74.21875 \r\nz\r\n\" id=\"DejaVuSans-48\"/>\r\n       </defs>\r\n       <use xlink:href=\"#DejaVuSans-48\"/>\r\n      </g>\r\n     </g>\r\n    </g>\r\n    <g id=\"xtick_2\">\r\n     <g id=\"line2d_2\">\r\n      <g>\r\n       <use style=\"stroke:#000000;stroke-width:0.8;\" x=\"109.378409\" xlink:href=\"#m989fb081c5\" y=\"225.460169\"/>\r\n      </g>\r\n     </g>\r\n     <g id=\"text_2\">\r\n      <!-- 20 -->\r\n      <g transform=\"translate(103.015909 240.058606)scale(0.1 -0.1)\">\r\n       <defs>\r\n        <path d=\"M 19.1875 8.296875 \r\nL 53.609375 8.296875 \r\nL 53.609375 0 \r\nL 7.328125 0 \r\nL 7.328125 8.296875 \r\nQ 12.9375 14.109375 22.625 23.890625 \r\nQ 32.328125 33.6875 34.8125 36.53125 \r\nQ 39.546875 41.84375 41.421875 45.53125 \r\nQ 43.3125 49.21875 43.3125 52.78125 \r\nQ 43.3125 58.59375 39.234375 62.25 \r\nQ 35.15625 65.921875 28.609375 65.921875 \r\nQ 23.96875 65.921875 18.8125 64.3125 \r\nQ 13.671875 62.703125 7.8125 59.421875 \r\nL 7.8125 69.390625 \r\nQ 13.765625 71.78125 18.9375 73 \r\nQ 24.125 74.21875 28.421875 74.21875 \r\nQ 39.75 74.21875 46.484375 68.546875 \r\nQ 53.21875 62.890625 53.21875 53.421875 \r\nQ 53.21875 48.921875 51.53125 44.890625 \r\nQ 49.859375 40.875 45.40625 35.40625 \r\nQ 44.1875 33.984375 37.640625 27.21875 \r\nQ 31.109375 20.453125 19.1875 8.296875 \r\nz\r\n\" id=\"DejaVuSans-50\"/>\r\n       </defs>\r\n       <use xlink:href=\"#DejaVuSans-50\"/>\r\n       <use x=\"63.623047\" xlink:href=\"#DejaVuSans-48\"/>\r\n      </g>\r\n     </g>\r\n    </g>\r\n    <g id=\"xtick_3\">\r\n     <g id=\"line2d_3\">\r\n      <g>\r\n       <use style=\"stroke:#000000;stroke-width:0.8;\" x=\"170.251136\" xlink:href=\"#m989fb081c5\" y=\"225.460169\"/>\r\n      </g>\r\n     </g>\r\n     <g id=\"text_3\">\r\n      <!-- 40 -->\r\n      <g transform=\"translate(163.888636 240.058606)scale(0.1 -0.1)\">\r\n       <defs>\r\n        <path d=\"M 37.796875 64.3125 \r\nL 12.890625 25.390625 \r\nL 37.796875 25.390625 \r\nz\r\nM 35.203125 72.90625 \r\nL 47.609375 72.90625 \r\nL 47.609375 25.390625 \r\nL 58.015625 25.390625 \r\nL 58.015625 17.1875 \r\nL 47.609375 17.1875 \r\nL 47.609375 0 \r\nL 37.796875 0 \r\nL 37.796875 17.1875 \r\nL 4.890625 17.1875 \r\nL 4.890625 26.703125 \r\nz\r\n\" id=\"DejaVuSans-52\"/>\r\n       </defs>\r\n       <use xlink:href=\"#DejaVuSans-52\"/>\r\n       <use x=\"63.623047\" xlink:href=\"#DejaVuSans-48\"/>\r\n      </g>\r\n     </g>\r\n    </g>\r\n    <g id=\"xtick_4\">\r\n     <g id=\"line2d_4\">\r\n      <g>\r\n       <use style=\"stroke:#000000;stroke-width:0.8;\" x=\"231.123864\" xlink:href=\"#m989fb081c5\" y=\"225.460169\"/>\r\n      </g>\r\n     </g>\r\n     <g id=\"text_4\">\r\n      <!-- 60 -->\r\n      <g transform=\"translate(224.761364 240.058606)scale(0.1 -0.1)\">\r\n       <defs>\r\n        <path d=\"M 33.015625 40.375 \r\nQ 26.375 40.375 22.484375 35.828125 \r\nQ 18.609375 31.296875 18.609375 23.390625 \r\nQ 18.609375 15.53125 22.484375 10.953125 \r\nQ 26.375 6.390625 33.015625 6.390625 \r\nQ 39.65625 6.390625 43.53125 10.953125 \r\nQ 47.40625 15.53125 47.40625 23.390625 \r\nQ 47.40625 31.296875 43.53125 35.828125 \r\nQ 39.65625 40.375 33.015625 40.375 \r\nz\r\nM 52.59375 71.296875 \r\nL 52.59375 62.3125 \r\nQ 48.875 64.0625 45.09375 64.984375 \r\nQ 41.3125 65.921875 37.59375 65.921875 \r\nQ 27.828125 65.921875 22.671875 59.328125 \r\nQ 17.53125 52.734375 16.796875 39.40625 \r\nQ 19.671875 43.65625 24.015625 45.921875 \r\nQ 28.375 48.1875 33.59375 48.1875 \r\nQ 44.578125 48.1875 50.953125 41.515625 \r\nQ 57.328125 34.859375 57.328125 23.390625 \r\nQ 57.328125 12.15625 50.6875 5.359375 \r\nQ 44.046875 -1.421875 33.015625 -1.421875 \r\nQ 20.359375 -1.421875 13.671875 8.265625 \r\nQ 6.984375 17.96875 6.984375 36.375 \r\nQ 6.984375 53.65625 15.1875 63.9375 \r\nQ 23.390625 74.21875 37.203125 74.21875 \r\nQ 40.921875 74.21875 44.703125 73.484375 \r\nQ 48.484375 72.75 52.59375 71.296875 \r\nz\r\n\" id=\"DejaVuSans-54\"/>\r\n       </defs>\r\n       <use xlink:href=\"#DejaVuSans-54\"/>\r\n       <use x=\"63.623047\" xlink:href=\"#DejaVuSans-48\"/>\r\n      </g>\r\n     </g>\r\n    </g>\r\n    <g id=\"xtick_5\">\r\n     <g id=\"line2d_5\">\r\n      <g>\r\n       <use style=\"stroke:#000000;stroke-width:0.8;\" x=\"291.996591\" xlink:href=\"#m989fb081c5\" y=\"225.460169\"/>\r\n      </g>\r\n     </g>\r\n     <g id=\"text_5\">\r\n      <!-- 80 -->\r\n      <g transform=\"translate(285.634091 240.058606)scale(0.1 -0.1)\">\r\n       <defs>\r\n        <path d=\"M 31.78125 34.625 \r\nQ 24.75 34.625 20.71875 30.859375 \r\nQ 16.703125 27.09375 16.703125 20.515625 \r\nQ 16.703125 13.921875 20.71875 10.15625 \r\nQ 24.75 6.390625 31.78125 6.390625 \r\nQ 38.8125 6.390625 42.859375 10.171875 \r\nQ 46.921875 13.96875 46.921875 20.515625 \r\nQ 46.921875 27.09375 42.890625 30.859375 \r\nQ 38.875 34.625 31.78125 34.625 \r\nz\r\nM 21.921875 38.8125 \r\nQ 15.578125 40.375 12.03125 44.71875 \r\nQ 8.5 49.078125 8.5 55.328125 \r\nQ 8.5 64.0625 14.71875 69.140625 \r\nQ 20.953125 74.21875 31.78125 74.21875 \r\nQ 42.671875 74.21875 48.875 69.140625 \r\nQ 55.078125 64.0625 55.078125 55.328125 \r\nQ 55.078125 49.078125 51.53125 44.71875 \r\nQ 48 40.375 41.703125 38.8125 \r\nQ 48.828125 37.15625 52.796875 32.3125 \r\nQ 56.78125 27.484375 56.78125 20.515625 \r\nQ 56.78125 9.90625 50.3125 4.234375 \r\nQ 43.84375 -1.421875 31.78125 -1.421875 \r\nQ 19.734375 -1.421875 13.25 4.234375 \r\nQ 6.78125 9.90625 6.78125 20.515625 \r\nQ 6.78125 27.484375 10.78125 32.3125 \r\nQ 14.796875 37.15625 21.921875 38.8125 \r\nz\r\nM 18.3125 54.390625 \r\nQ 18.3125 48.734375 21.84375 45.5625 \r\nQ 25.390625 42.390625 31.78125 42.390625 \r\nQ 38.140625 42.390625 41.71875 45.5625 \r\nQ 45.3125 48.734375 45.3125 54.390625 \r\nQ 45.3125 60.0625 41.71875 63.234375 \r\nQ 38.140625 66.40625 31.78125 66.40625 \r\nQ 25.390625 66.40625 21.84375 63.234375 \r\nQ 18.3125 60.0625 18.3125 54.390625 \r\nz\r\n\" id=\"DejaVuSans-56\"/>\r\n       </defs>\r\n       <use xlink:href=\"#DejaVuSans-56\"/>\r\n       <use x=\"63.623047\" xlink:href=\"#DejaVuSans-48\"/>\r\n      </g>\r\n     </g>\r\n    </g>\r\n    <g id=\"xtick_6\">\r\n     <g id=\"line2d_6\">\r\n      <g>\r\n       <use style=\"stroke:#000000;stroke-width:0.8;\" x=\"352.869318\" xlink:href=\"#m989fb081c5\" y=\"225.460169\"/>\r\n      </g>\r\n     </g>\r\n     <g id=\"text_6\">\r\n      <!-- 100 -->\r\n      <g transform=\"translate(343.325568 240.058606)scale(0.1 -0.1)\">\r\n       <defs>\r\n        <path d=\"M 12.40625 8.296875 \r\nL 28.515625 8.296875 \r\nL 28.515625 63.921875 \r\nL 10.984375 60.40625 \r\nL 10.984375 69.390625 \r\nL 28.421875 72.90625 \r\nL 38.28125 72.90625 \r\nL 38.28125 8.296875 \r\nL 54.390625 8.296875 \r\nL 54.390625 0 \r\nL 12.40625 0 \r\nz\r\n\" id=\"DejaVuSans-49\"/>\r\n       </defs>\r\n       <use xlink:href=\"#DejaVuSans-49\"/>\r\n       <use x=\"63.623047\" xlink:href=\"#DejaVuSans-48\"/>\r\n       <use x=\"127.246094\" xlink:href=\"#DejaVuSans-48\"/>\r\n      </g>\r\n     </g>\r\n    </g>\r\n   </g>\r\n   <g id=\"matplotlib.axis_2\">\r\n    <g id=\"ytick_1\">\r\n     <g id=\"line2d_7\">\r\n      <defs>\r\n       <path d=\"M 0 0 \r\nL -3.5 0 \r\n\" id=\"mcb429eefe4\" style=\"stroke:#000000;stroke-width:0.8;\"/>\r\n      </defs>\r\n      <g>\r\n       <use style=\"stroke:#000000;stroke-width:0.8;\" x=\"33.2875\" xlink:href=\"#mcb429eefe4\" y=\"203.226175\"/>\r\n      </g>\r\n     </g>\r\n     <g id=\"text_7\">\r\n      <!-- 75 -->\r\n      <g transform=\"translate(13.5625 207.025394)scale(0.1 -0.1)\">\r\n       <defs>\r\n        <path d=\"M 8.203125 72.90625 \r\nL 55.078125 72.90625 \r\nL 55.078125 68.703125 \r\nL 28.609375 0 \r\nL 18.3125 0 \r\nL 43.21875 64.59375 \r\nL 8.203125 64.59375 \r\nz\r\n\" id=\"DejaVuSans-55\"/>\r\n        <path d=\"M 10.796875 72.90625 \r\nL 49.515625 72.90625 \r\nL 49.515625 64.59375 \r\nL 19.828125 64.59375 \r\nL 19.828125 46.734375 \r\nQ 21.96875 47.46875 24.109375 47.828125 \r\nQ 26.265625 48.1875 28.421875 48.1875 \r\nQ 40.625 48.1875 47.75 41.5 \r\nQ 54.890625 34.8125 54.890625 23.390625 \r\nQ 54.890625 11.625 47.5625 5.09375 \r\nQ 40.234375 -1.421875 26.90625 -1.421875 \r\nQ 22.3125 -1.421875 17.546875 -0.640625 \r\nQ 12.796875 0.140625 7.71875 1.703125 \r\nL 7.71875 11.625 \r\nQ 12.109375 9.234375 16.796875 8.0625 \r\nQ 21.484375 6.890625 26.703125 6.890625 \r\nQ 35.15625 6.890625 40.078125 11.328125 \r\nQ 45.015625 15.765625 45.015625 23.390625 \r\nQ 45.015625 31 40.078125 35.4375 \r\nQ 35.15625 39.890625 26.703125 39.890625 \r\nQ 22.75 39.890625 18.8125 39.015625 \r\nQ 14.890625 38.140625 10.796875 36.28125 \r\nz\r\n\" id=\"DejaVuSans-53\"/>\r\n       </defs>\r\n       <use xlink:href=\"#DejaVuSans-55\"/>\r\n       <use x=\"63.623047\" xlink:href=\"#DejaVuSans-53\"/>\r\n      </g>\r\n     </g>\r\n    </g>\r\n    <g id=\"ytick_2\">\r\n     <g id=\"line2d_8\">\r\n      <g>\r\n       <use style=\"stroke:#000000;stroke-width:0.8;\" x=\"33.2875\" xlink:href=\"#mcb429eefe4\" y=\"175.765181\"/>\r\n      </g>\r\n     </g>\r\n     <g id=\"text_8\">\r\n      <!-- 100 -->\r\n      <g transform=\"translate(7.2 179.5644)scale(0.1 -0.1)\">\r\n       <use xlink:href=\"#DejaVuSans-49\"/>\r\n       <use x=\"63.623047\" xlink:href=\"#DejaVuSans-48\"/>\r\n       <use x=\"127.246094\" xlink:href=\"#DejaVuSans-48\"/>\r\n      </g>\r\n     </g>\r\n    </g>\r\n    <g id=\"ytick_3\">\r\n     <g id=\"line2d_9\">\r\n      <g>\r\n       <use style=\"stroke:#000000;stroke-width:0.8;\" x=\"33.2875\" xlink:href=\"#mcb429eefe4\" y=\"148.304187\"/>\r\n      </g>\r\n     </g>\r\n     <g id=\"text_9\">\r\n      <!-- 125 -->\r\n      <g transform=\"translate(7.2 152.103406)scale(0.1 -0.1)\">\r\n       <use xlink:href=\"#DejaVuSans-49\"/>\r\n       <use x=\"63.623047\" xlink:href=\"#DejaVuSans-50\"/>\r\n       <use x=\"127.246094\" xlink:href=\"#DejaVuSans-53\"/>\r\n      </g>\r\n     </g>\r\n    </g>\r\n    <g id=\"ytick_4\">\r\n     <g id=\"line2d_10\">\r\n      <g>\r\n       <use style=\"stroke:#000000;stroke-width:0.8;\" x=\"33.2875\" xlink:href=\"#mcb429eefe4\" y=\"120.843194\"/>\r\n      </g>\r\n     </g>\r\n     <g id=\"text_10\">\r\n      <!-- 150 -->\r\n      <g transform=\"translate(7.2 124.642412)scale(0.1 -0.1)\">\r\n       <use xlink:href=\"#DejaVuSans-49\"/>\r\n       <use x=\"63.623047\" xlink:href=\"#DejaVuSans-53\"/>\r\n       <use x=\"127.246094\" xlink:href=\"#DejaVuSans-48\"/>\r\n      </g>\r\n     </g>\r\n    </g>\r\n    <g id=\"ytick_5\">\r\n     <g id=\"line2d_11\">\r\n      <g>\r\n       <use style=\"stroke:#000000;stroke-width:0.8;\" x=\"33.2875\" xlink:href=\"#mcb429eefe4\" y=\"93.3822\"/>\r\n      </g>\r\n     </g>\r\n     <g id=\"text_11\">\r\n      <!-- 175 -->\r\n      <g transform=\"translate(7.2 97.181419)scale(0.1 -0.1)\">\r\n       <use xlink:href=\"#DejaVuSans-49\"/>\r\n       <use x=\"63.623047\" xlink:href=\"#DejaVuSans-55\"/>\r\n       <use x=\"127.246094\" xlink:href=\"#DejaVuSans-53\"/>\r\n      </g>\r\n     </g>\r\n    </g>\r\n    <g id=\"ytick_6\">\r\n     <g id=\"line2d_12\">\r\n      <g>\r\n       <use style=\"stroke:#000000;stroke-width:0.8;\" x=\"33.2875\" xlink:href=\"#mcb429eefe4\" y=\"65.921206\"/>\r\n      </g>\r\n     </g>\r\n     <g id=\"text_12\">\r\n      <!-- 200 -->\r\n      <g transform=\"translate(7.2 69.720425)scale(0.1 -0.1)\">\r\n       <use xlink:href=\"#DejaVuSans-50\"/>\r\n       <use x=\"63.623047\" xlink:href=\"#DejaVuSans-48\"/>\r\n       <use x=\"127.246094\" xlink:href=\"#DejaVuSans-48\"/>\r\n      </g>\r\n     </g>\r\n    </g>\r\n    <g id=\"ytick_7\">\r\n     <g id=\"line2d_13\">\r\n      <g>\r\n       <use style=\"stroke:#000000;stroke-width:0.8;\" x=\"33.2875\" xlink:href=\"#mcb429eefe4\" y=\"38.460212\"/>\r\n      </g>\r\n     </g>\r\n     <g id=\"text_13\">\r\n      <!-- 225 -->\r\n      <g transform=\"translate(7.2 42.259431)scale(0.1 -0.1)\">\r\n       <use xlink:href=\"#DejaVuSans-50\"/>\r\n       <use x=\"63.623047\" xlink:href=\"#DejaVuSans-50\"/>\r\n       <use x=\"127.246094\" xlink:href=\"#DejaVuSans-53\"/>\r\n      </g>\r\n     </g>\r\n    </g>\r\n    <g id=\"ytick_8\">\r\n     <g id=\"line2d_14\">\r\n      <g>\r\n       <use style=\"stroke:#000000;stroke-width:0.8;\" x=\"33.2875\" xlink:href=\"#mcb429eefe4\" y=\"10.999219\"/>\r\n      </g>\r\n     </g>\r\n     <g id=\"text_14\">\r\n      <!-- 250 -->\r\n      <g transform=\"translate(7.2 14.798437)scale(0.1 -0.1)\">\r\n       <use xlink:href=\"#DejaVuSans-50\"/>\r\n       <use x=\"63.623047\" xlink:href=\"#DejaVuSans-53\"/>\r\n       <use x=\"127.246094\" xlink:href=\"#DejaVuSans-48\"/>\r\n      </g>\r\n     </g>\r\n    </g>\r\n   </g>\r\n   <g id=\"line2d_15\">\r\n    <path clip-path=\"url(#pd8d8980919)\" d=\"M 48.505682 17.903805 \r\nL 51.549318 17.903805 \r\nL 54.592955 17.903805 \r\nL 57.636591 17.903805 \r\nL 60.680227 17.903805 \r\nL 63.723864 17.903805 \r\nL 66.7675 17.903805 \r\nL 69.811136 17.903805 \r\nL 72.854773 17.903805 \r\nL 75.898409 17.903805 \r\nL 78.942045 17.903805 \r\nL 81.985682 17.903805 \r\nL 85.029318 17.903805 \r\nL 88.072955 17.903805 \r\nL 91.116591 17.903805 \r\nL 94.160227 17.903805 \r\nL 97.203864 17.903805 \r\nL 100.2475 17.903805 \r\nL 103.291136 17.903805 \r\nL 106.334773 17.903805 \r\nL 109.378409 17.903805 \r\nL 112.422045 17.903805 \r\nL 115.465682 17.903805 \r\nL 118.509318 17.903805 \r\nL 121.552955 17.903805 \r\nL 124.596591 17.903805 \r\nL 127.640227 17.903805 \r\nL 130.683864 17.903805 \r\nL 133.7275 17.903805 \r\nL 136.771136 17.903805 \r\nL 139.814773 17.903805 \r\nL 142.858409 17.903805 \r\nL 145.902045 17.903805 \r\nL 148.945682 17.903805 \r\nL 151.989318 17.903805 \r\nL 155.032955 17.903805 \r\nL 158.076591 17.903805 \r\nL 161.120227 17.903805 \r\nL 164.163864 17.903805 \r\nL 167.2075 17.903805 \r\nL 170.251136 17.903805 \r\nL 173.294773 17.903805 \r\nL 176.338409 17.903805 \r\nL 179.382045 17.903805 \r\nL 182.425682 17.903805 \r\nL 185.469318 17.903805 \r\nL 188.512955 17.903805 \r\nL 191.556591 17.903805 \r\nL 194.600227 17.903805 \r\nL 197.643864 17.903805 \r\nL 200.6875 17.903805 \r\nL 203.731136 17.903805 \r\nL 206.774773 17.903805 \r\nL 209.818409 17.903805 \r\nL 212.862045 17.903805 \r\nL 215.905682 17.903805 \r\nL 218.949318 17.903805 \r\nL 221.992955 17.903805 \r\nL 225.036591 17.903805 \r\nL 228.080227 17.903805 \r\nL 231.123864 17.903805 \r\nL 234.1675 17.903805 \r\nL 237.211136 17.903805 \r\nL 240.254773 17.903805 \r\nL 243.298409 17.903805 \r\nL 246.342045 17.903805 \r\nL 249.385682 17.903805 \r\nL 252.429318 17.903805 \r\nL 255.472955 17.903805 \r\nL 258.516591 17.903805 \r\nL 261.560227 17.903805 \r\nL 264.603864 17.903805 \r\nL 267.6475 17.903805 \r\nL 270.691136 17.903805 \r\nL 273.734773 17.903805 \r\nL 276.778409 17.903805 \r\nL 279.822045 17.903805 \r\nL 282.865682 17.903805 \r\nL 285.909318 17.903805 \r\nL 288.952955 17.903805 \r\nL 291.996591 17.903805 \r\nL 295.040227 17.903805 \r\nL 298.083864 17.903805 \r\nL 301.1275 17.903805 \r\nL 304.171136 17.903805 \r\nL 307.214773 17.903805 \r\nL 310.258409 17.903805 \r\nL 313.302045 17.903805 \r\nL 316.345682 17.903805 \r\nL 319.389318 17.903805 \r\nL 322.432955 17.903805 \r\nL 325.476591 17.903805 \r\nL 328.520227 17.903805 \r\nL 331.563864 17.903805 \r\nL 334.6075 17.903805 \r\nL 337.651136 17.903805 \r\nL 340.694773 17.903805 \r\nL 343.738409 17.903805 \r\nL 346.782045 17.903805 \r\nL 349.825682 17.903805 \r\nL 352.869318 17.903805 \r\n\" style=\"fill:none;stroke:#1f77b4;stroke-linecap:square;stroke-width:1.5;\"/>\r\n   </g>\r\n   <g id=\"line2d_16\">\r\n    <path clip-path=\"url(#pd8d8980919)\" d=\"M 48.505682 215.576532 \r\nL 51.549318 215.576532 \r\nL 54.592955 215.576532 \r\nL 57.636591 215.576532 \r\nL 60.680227 215.576532 \r\nL 63.723864 215.576532 \r\nL 66.7675 215.576532 \r\nL 69.811136 215.576532 \r\nL 72.854773 215.576532 \r\nL 75.898409 215.576532 \r\nL 78.942045 215.576532 \r\nL 81.985682 215.576532 \r\nL 85.029318 215.576532 \r\nL 88.072955 215.576532 \r\nL 91.116591 215.576532 \r\nL 94.160227 215.576532 \r\nL 97.203864 215.576532 \r\nL 100.2475 215.576532 \r\nL 103.291136 215.576532 \r\nL 106.334773 215.576532 \r\nL 109.378409 215.576532 \r\nL 112.422045 215.576532 \r\nL 115.465682 215.576532 \r\nL 118.509318 215.576532 \r\nL 121.552955 215.576532 \r\nL 124.596591 215.576532 \r\nL 127.640227 215.576532 \r\nL 130.683864 215.576532 \r\nL 133.7275 215.576532 \r\nL 136.771136 215.576532 \r\nL 139.814773 215.576532 \r\nL 142.858409 215.576532 \r\nL 145.902045 215.576532 \r\nL 148.945682 215.576532 \r\nL 151.989318 215.576532 \r\nL 155.032955 215.576532 \r\nL 158.076591 215.576532 \r\nL 161.120227 215.576532 \r\nL 164.163864 215.576532 \r\nL 167.2075 215.576532 \r\nL 170.251136 215.576532 \r\nL 173.294773 215.576532 \r\nL 176.338409 215.576532 \r\nL 179.382045 215.576532 \r\nL 182.425682 215.576532 \r\nL 185.469318 215.576532 \r\nL 188.512955 215.576532 \r\nL 191.556591 215.576532 \r\nL 194.600227 215.576532 \r\nL 197.643864 215.576532 \r\nL 200.6875 215.576532 \r\nL 203.731136 215.576532 \r\nL 206.774773 215.576532 \r\nL 209.818409 215.576532 \r\nL 212.862045 215.576532 \r\nL 215.905682 215.576532 \r\nL 218.949318 215.576532 \r\nL 221.992955 215.576532 \r\nL 225.036591 215.576532 \r\nL 228.080227 215.576532 \r\nL 231.123864 215.576532 \r\nL 234.1675 215.576532 \r\nL 237.211136 215.576532 \r\nL 240.254773 215.576532 \r\nL 243.298409 215.576532 \r\nL 246.342045 215.576532 \r\nL 249.385682 215.576532 \r\nL 252.429318 215.576532 \r\nL 255.472955 215.576532 \r\nL 258.516591 215.576532 \r\nL 261.560227 215.576532 \r\nL 264.603864 215.576532 \r\nL 267.6475 215.576532 \r\nL 270.691136 215.576532 \r\nL 273.734773 215.576532 \r\nL 276.778409 215.576532 \r\nL 279.822045 215.576532 \r\nL 282.865682 215.576532 \r\nL 285.909318 215.576532 \r\nL 288.952955 215.576532 \r\nL 291.996591 215.576532 \r\nL 295.040227 215.576532 \r\nL 298.083864 215.576532 \r\nL 301.1275 215.576532 \r\nL 304.171136 215.576532 \r\nL 307.214773 215.576532 \r\nL 310.258409 215.576532 \r\nL 313.302045 215.576532 \r\nL 316.345682 215.576532 \r\nL 319.389318 215.576532 \r\nL 322.432955 215.576532 \r\nL 325.476591 215.576532 \r\nL 328.520227 215.576532 \r\nL 331.563864 215.576532 \r\nL 334.6075 215.576532 \r\nL 337.651136 215.576532 \r\nL 340.694773 215.576532 \r\nL 343.738409 215.576532 \r\nL 346.782045 215.576532 \r\nL 349.825682 215.576532 \r\nL 352.869318 215.576532 \r\n\" style=\"fill:none;stroke:#ff7f0e;stroke-linecap:square;stroke-width:1.5;\"/>\r\n   </g>\r\n   <g id=\"patch_3\">\r\n    <path d=\"M 33.2875 225.460169 \r\nL 33.2875 8.020169 \r\n\" style=\"fill:none;stroke:#000000;stroke-linecap:square;stroke-linejoin:miter;stroke-width:0.8;\"/>\r\n   </g>\r\n   <g id=\"patch_4\">\r\n    <path d=\"M 368.0875 225.460169 \r\nL 368.0875 8.020169 \r\n\" style=\"fill:none;stroke:#000000;stroke-linecap:square;stroke-linejoin:miter;stroke-width:0.8;\"/>\r\n   </g>\r\n   <g id=\"patch_5\">\r\n    <path d=\"M 33.2875 225.460169 \r\nL 368.0875 225.460169 \r\n\" style=\"fill:none;stroke:#000000;stroke-linecap:square;stroke-linejoin:miter;stroke-width:0.8;\"/>\r\n   </g>\r\n   <g id=\"patch_6\">\r\n    <path d=\"M 33.2875 8.020169 \r\nL 368.0875 8.020169 \r\n\" style=\"fill:none;stroke:#000000;stroke-linecap:square;stroke-linejoin:miter;stroke-width:0.8;\"/>\r\n   </g>\r\n   <g id=\"legend_1\">\r\n    <g id=\"patch_7\">\r\n     <path d=\"M 305.8125 132.918294 \r\nL 361.0875 132.918294 \r\nQ 363.0875 132.918294 363.0875 130.918294 \r\nL 363.0875 102.562044 \r\nQ 363.0875 100.562044 361.0875 100.562044 \r\nL 305.8125 100.562044 \r\nQ 303.8125 100.562044 303.8125 102.562044 \r\nL 303.8125 130.918294 \r\nQ 303.8125 132.918294 305.8125 132.918294 \r\nz\r\n\" style=\"fill:#ffffff;opacity:0.8;stroke:#cccccc;stroke-linejoin:miter;\"/>\r\n    </g>\r\n    <g id=\"line2d_17\">\r\n     <path d=\"M 307.8125 108.660481 \r\nL 327.8125 108.660481 \r\n\" style=\"fill:none;stroke:#1f77b4;stroke-linecap:square;stroke-width:1.5;\"/>\r\n    </g>\r\n    <g id=\"line2d_18\"/>\r\n    <g id=\"text_15\">\r\n     <!-- train -->\r\n     <g transform=\"translate(335.8125 112.160481)scale(0.1 -0.1)\">\r\n      <defs>\r\n       <path d=\"M 18.3125 70.21875 \r\nL 18.3125 54.6875 \r\nL 36.8125 54.6875 \r\nL 36.8125 47.703125 \r\nL 18.3125 47.703125 \r\nL 18.3125 18.015625 \r\nQ 18.3125 11.328125 20.140625 9.421875 \r\nQ 21.96875 7.515625 27.59375 7.515625 \r\nL 36.8125 7.515625 \r\nL 36.8125 0 \r\nL 27.59375 0 \r\nQ 17.1875 0 13.234375 3.875 \r\nQ 9.28125 7.765625 9.28125 18.015625 \r\nL 9.28125 47.703125 \r\nL 2.6875 47.703125 \r\nL 2.6875 54.6875 \r\nL 9.28125 54.6875 \r\nL 9.28125 70.21875 \r\nz\r\n\" id=\"DejaVuSans-116\"/>\r\n       <path d=\"M 41.109375 46.296875 \r\nQ 39.59375 47.171875 37.8125 47.578125 \r\nQ 36.03125 48 33.890625 48 \r\nQ 26.265625 48 22.1875 43.046875 \r\nQ 18.109375 38.09375 18.109375 28.8125 \r\nL 18.109375 0 \r\nL 9.078125 0 \r\nL 9.078125 54.6875 \r\nL 18.109375 54.6875 \r\nL 18.109375 46.1875 \r\nQ 20.953125 51.171875 25.484375 53.578125 \r\nQ 30.03125 56 36.53125 56 \r\nQ 37.453125 56 38.578125 55.875 \r\nQ 39.703125 55.765625 41.0625 55.515625 \r\nz\r\n\" id=\"DejaVuSans-114\"/>\r\n       <path d=\"M 34.28125 27.484375 \r\nQ 23.390625 27.484375 19.1875 25 \r\nQ 14.984375 22.515625 14.984375 16.5 \r\nQ 14.984375 11.71875 18.140625 8.90625 \r\nQ 21.296875 6.109375 26.703125 6.109375 \r\nQ 34.1875 6.109375 38.703125 11.40625 \r\nQ 43.21875 16.703125 43.21875 25.484375 \r\nL 43.21875 27.484375 \r\nz\r\nM 52.203125 31.203125 \r\nL 52.203125 0 \r\nL 43.21875 0 \r\nL 43.21875 8.296875 \r\nQ 40.140625 3.328125 35.546875 0.953125 \r\nQ 30.953125 -1.421875 24.3125 -1.421875 \r\nQ 15.921875 -1.421875 10.953125 3.296875 \r\nQ 6 8.015625 6 15.921875 \r\nQ 6 25.140625 12.171875 29.828125 \r\nQ 18.359375 34.515625 30.609375 34.515625 \r\nL 43.21875 34.515625 \r\nL 43.21875 35.40625 \r\nQ 43.21875 41.609375 39.140625 45 \r\nQ 35.0625 48.390625 27.6875 48.390625 \r\nQ 23 48.390625 18.546875 47.265625 \r\nQ 14.109375 46.140625 10.015625 43.890625 \r\nL 10.015625 52.203125 \r\nQ 14.9375 54.109375 19.578125 55.046875 \r\nQ 24.21875 56 28.609375 56 \r\nQ 40.484375 56 46.34375 49.84375 \r\nQ 52.203125 43.703125 52.203125 31.203125 \r\nz\r\n\" id=\"DejaVuSans-97\"/>\r\n       <path d=\"M 9.421875 54.6875 \r\nL 18.40625 54.6875 \r\nL 18.40625 0 \r\nL 9.421875 0 \r\nz\r\nM 9.421875 75.984375 \r\nL 18.40625 75.984375 \r\nL 18.40625 64.59375 \r\nL 9.421875 64.59375 \r\nz\r\n\" id=\"DejaVuSans-105\"/>\r\n       <path d=\"M 54.890625 33.015625 \r\nL 54.890625 0 \r\nL 45.90625 0 \r\nL 45.90625 32.71875 \r\nQ 45.90625 40.484375 42.875 44.328125 \r\nQ 39.84375 48.1875 33.796875 48.1875 \r\nQ 26.515625 48.1875 22.3125 43.546875 \r\nQ 18.109375 38.921875 18.109375 30.90625 \r\nL 18.109375 0 \r\nL 9.078125 0 \r\nL 9.078125 54.6875 \r\nL 18.109375 54.6875 \r\nL 18.109375 46.1875 \r\nQ 21.34375 51.125 25.703125 53.5625 \r\nQ 30.078125 56 35.796875 56 \r\nQ 45.21875 56 50.046875 50.171875 \r\nQ 54.890625 44.34375 54.890625 33.015625 \r\nz\r\n\" id=\"DejaVuSans-110\"/>\r\n      </defs>\r\n      <use xlink:href=\"#DejaVuSans-116\"/>\r\n      <use x=\"39.208984\" xlink:href=\"#DejaVuSans-114\"/>\r\n      <use x=\"80.322266\" xlink:href=\"#DejaVuSans-97\"/>\r\n      <use x=\"141.601562\" xlink:href=\"#DejaVuSans-105\"/>\r\n      <use x=\"169.384766\" xlink:href=\"#DejaVuSans-110\"/>\r\n     </g>\r\n    </g>\r\n    <g id=\"line2d_19\">\r\n     <path d=\"M 307.8125 123.338606 \r\nL 327.8125 123.338606 \r\n\" style=\"fill:none;stroke:#ff7f0e;stroke-linecap:square;stroke-width:1.5;\"/>\r\n    </g>\r\n    <g id=\"line2d_20\"/>\r\n    <g id=\"text_16\">\r\n     <!-- test -->\r\n     <g transform=\"translate(335.8125 126.838606)scale(0.1 -0.1)\">\r\n      <defs>\r\n       <path d=\"M 56.203125 29.59375 \r\nL 56.203125 25.203125 \r\nL 14.890625 25.203125 \r\nQ 15.484375 15.921875 20.484375 11.0625 \r\nQ 25.484375 6.203125 34.421875 6.203125 \r\nQ 39.59375 6.203125 44.453125 7.46875 \r\nQ 49.3125 8.734375 54.109375 11.28125 \r\nL 54.109375 2.78125 \r\nQ 49.265625 0.734375 44.1875 -0.34375 \r\nQ 39.109375 -1.421875 33.890625 -1.421875 \r\nQ 20.796875 -1.421875 13.15625 6.1875 \r\nQ 5.515625 13.8125 5.515625 26.8125 \r\nQ 5.515625 40.234375 12.765625 48.109375 \r\nQ 20.015625 56 32.328125 56 \r\nQ 43.359375 56 49.78125 48.890625 \r\nQ 56.203125 41.796875 56.203125 29.59375 \r\nz\r\nM 47.21875 32.234375 \r\nQ 47.125 39.59375 43.09375 43.984375 \r\nQ 39.0625 48.390625 32.421875 48.390625 \r\nQ 24.90625 48.390625 20.390625 44.140625 \r\nQ 15.875 39.890625 15.1875 32.171875 \r\nz\r\n\" id=\"DejaVuSans-101\"/>\r\n       <path d=\"M 44.28125 53.078125 \r\nL 44.28125 44.578125 \r\nQ 40.484375 46.53125 36.375 47.5 \r\nQ 32.28125 48.484375 27.875 48.484375 \r\nQ 21.1875 48.484375 17.84375 46.4375 \r\nQ 14.5 44.390625 14.5 40.28125 \r\nQ 14.5 37.15625 16.890625 35.375 \r\nQ 19.28125 33.59375 26.515625 31.984375 \r\nL 29.59375 31.296875 \r\nQ 39.15625 29.25 43.1875 25.515625 \r\nQ 47.21875 21.78125 47.21875 15.09375 \r\nQ 47.21875 7.46875 41.1875 3.015625 \r\nQ 35.15625 -1.421875 24.609375 -1.421875 \r\nQ 20.21875 -1.421875 15.453125 -0.5625 \r\nQ 10.6875 0.296875 5.421875 2 \r\nL 5.421875 11.28125 \r\nQ 10.40625 8.6875 15.234375 7.390625 \r\nQ 20.0625 6.109375 24.8125 6.109375 \r\nQ 31.15625 6.109375 34.5625 8.28125 \r\nQ 37.984375 10.453125 37.984375 14.40625 \r\nQ 37.984375 18.0625 35.515625 20.015625 \r\nQ 33.0625 21.96875 24.703125 23.78125 \r\nL 21.578125 24.515625 \r\nQ 13.234375 26.265625 9.515625 29.90625 \r\nQ 5.8125 33.546875 5.8125 39.890625 \r\nQ 5.8125 47.609375 11.28125 51.796875 \r\nQ 16.75 56 26.8125 56 \r\nQ 31.78125 56 36.171875 55.265625 \r\nQ 40.578125 54.546875 44.28125 53.078125 \r\nz\r\n\" id=\"DejaVuSans-115\"/>\r\n      </defs>\r\n      <use xlink:href=\"#DejaVuSans-116\"/>\r\n      <use x=\"39.208984\" xlink:href=\"#DejaVuSans-101\"/>\r\n      <use x=\"100.732422\" xlink:href=\"#DejaVuSans-115\"/>\r\n      <use x=\"152.832031\" xlink:href=\"#DejaVuSans-116\"/>\r\n     </g>\r\n    </g>\r\n   </g>\r\n  </g>\r\n </g>\r\n <defs>\r\n  <clipPath id=\"pd8d8980919\">\r\n   <rect height=\"217.44\" width=\"334.8\" x=\"33.2875\" y=\"8.020169\"/>\r\n  </clipPath>\r\n </defs>\r\n</svg>\r\n",
      "image/png": "[encoded data removed]"
     },
     "metadata": {
      "needs_background": "light"
     }
    }
   ],
   "source": [
    "from matplotlib import pyplot\n",
    "# design network\n",
    "# fit network\n",
    "# batch size should be 128\n",
    "es = EarlyStopping(monitor='val_loss', mode='min', verbose=2, patience=100)\n",
    "\n",
    "history = model.fit(X_train, y_train, epochs=500, batch_size=15, validation_data=(X_test, y_test), verbose=2, shuffle=False,callbacks=[es])\n",
    "# plot history\n",
    "pyplot.plot(history.history['loss'], label='train')\n",
    "pyplot.plot(history.history['val_loss'], label='test')\n",
    "pyplot.legend()\n",
    "pyplot.show()"
   ]
  },
  {
   "cell_type": "code",
   "execution_count": 99,
   "metadata": {},
   "outputs": [
    {
     "output_type": "stream",
     "name": "stdout",
     "text": [
      "[[[7.2438445]\n  [8.873718 ]\n  [9.1790085]\n  [9.23379  ]\n  [9.244105 ]\n  [9.246179 ]\n  [9.246569 ]\n  [9.24657  ]\n  [9.246474 ]\n  [9.246359 ]\n  [9.24625  ]\n  [9.246154 ]\n  [9.246072 ]\n  [9.246004 ]\n  [9.245945 ]]]\n"
     ]
    }
   ],
   "source": [
    "\n",
    "# demonstrate prediction\n",
    "x_input = array([1,2,3,4,5,6,7,8,9,10,11,12,13,141,5])\n",
    "x_input = x_input.reshape(1,15,1)\n",
    "#print(x_input)\n",
    "#x_input = x_input.reshape((1, n_steps, n_features))\n",
    "yhat = model.predict(x_input, verbose=0)\n",
    "print(yhat)\n"
   ]
  },
  {
   "cell_type": "code",
   "execution_count": 133,
   "metadata": {},
   "outputs": [
    {
     "output_type": "error",
     "ename": "IndexError",
     "evalue": "index 56 is out of bounds for axis 0 with size 1",
     "traceback": [
      "\u001b[1;31m---------------------------------------------------------------------------\u001b[0m",
      "\u001b[1;31mIndexError\u001b[0m                                Traceback (most recent call last)",
      "\u001b[1;32m<ipython-input-133-63ef8ecc4b45>\u001b[0m in \u001b[0;36m<module>\u001b[1;34m\u001b[0m\n\u001b[1;32m----> 1\u001b[1;33m \u001b[0mprint\u001b[0m\u001b[1;33m(\u001b[0m \u001b[0mX\u001b[0m\u001b[1;33m[\u001b[0m\u001b[1;36m56\u001b[0m\u001b[1;33m,\u001b[0m\u001b[1;36m1\u001b[0m\u001b[1;33m,\u001b[0m\u001b[1;33m:\u001b[0m\u001b[1;33m]\u001b[0m\u001b[1;33m-\u001b[0m\u001b[0myhat\u001b[0m\u001b[1;33m)\u001b[0m\u001b[1;33m\u001b[0m\u001b[1;33m\u001b[0m\u001b[0m\n\u001b[0m\u001b[0;32m      2\u001b[0m \u001b[0mprint\u001b[0m\u001b[1;33m(\u001b[0m \u001b[0mX\u001b[0m\u001b[1;33m[\u001b[0m\u001b[1;36m56\u001b[0m\u001b[1;33m,\u001b[0m\u001b[1;36m1\u001b[0m\u001b[1;33m,\u001b[0m\u001b[1;33m:\u001b[0m\u001b[1;33m]\u001b[0m\u001b[1;33m)\u001b[0m\u001b[1;33m\u001b[0m\u001b[1;33m\u001b[0m\u001b[0m\n",
      "\u001b[1;31mIndexError\u001b[0m: index 56 is out of bounds for axis 0 with size 1"
     ]
    }
   ],
   "source": [
    "print( X[56,1,:]-yhat)\n",
    "print( X[56,1,:])"
   ]
  },
  {
   "cell_type": "code",
   "execution_count": null,
   "metadata": {},
   "outputs": [],
   "source": [
    "train_X = X\n",
    "train_y = y\n",
    "test_X = X[50:55,1,:]\n",
    "test_y = X[56,1,:]\n",
    "# fit network\n",
    "history = model.fit(train_X, train_y, epochs=50, batch_size=72, validation_data=(test_X, test_y), verbose=2, shuffle=False)\n",
    "# plot history\n",
    "pyplot.plot(history.history['loss'], label='train')\n",
    "pyplot.plot(history.history['val_loss'], label='test')\n",
    "pyplot.legend()\n",
    "pyplot.show()"
   ]
  },
  {
   "source": [],
   "cell_type": "markdown",
   "metadata": {}
  },
  {
   "cell_type": "code",
   "execution_count": null,
   "metadata": {
    "tags": []
   },
   "outputs": [],
   "source": [
    "from keras.models import Sequential\n",
    "from keras.layers import Dense\n",
    "from keras.layers import TimeDistributed\n",
    "from keras.layers import LSTM\n",
    "# prepare sequence\n",
    "length = 5\n",
    "seq = array([i/float(length) for i in range(length)])\n",
    "#X = seq.reshape(1, length, 1)\n",
    "#y = seq.reshape(1, length, 1)\n",
    "# define LSTM configuration\n",
    "n_neurons = length\n",
    "n_batch = 1\n",
    "n_epoch = 1000\n",
    "# create LSTM\n",
    "model = Sequential()\n",
    "model.add(LSTM(n_neurons, input_shape=(length, 1), return_sequences=True))\n",
    "model.add(TimeDistributed(Dense(1)))\n",
    "model.compile(loss='mean_squared_error', optimizer='adam')\n",
    "print(model.summary())\n",
    "# train LSTM\n",
    "model.fit(X_train, y_train, epochs=n_epoch, batch_size=n_batch, verbose=2)\n",
    "# evaluate\n",
    "result = model.predict(X_test, batch_size=n_batch, verbose=0)\n",
    "for value in result[0,:,0]:\n",
    " print('%.1f' % value)"
   ]
  },
  {
   "source": [
    "## ^copied"
   ],
   "cell_type": "markdown",
   "metadata": {}
  }
 ]
}