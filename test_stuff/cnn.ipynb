{
 "metadata": {
  "language_info": {
   "codemirror_mode": {
    "name": "ipython",
    "version": 3
   },
   "file_extension": ".py",
   "mimetype": "text/x-python",
   "name": "python",
   "nbconvert_exporter": "python",
   "pygments_lexer": "ipython3",
   "version": "3.8.5"
  },
  "orig_nbformat": 2,
  "kernelspec": {
   "name": "python385jvsc74a57bd091765243d447bc10b34282cff786081469c78a527bea45126a87448256c6538f",
   "display_name": "Python 3.8.5 64-bit ('tf': conda)"
  }
 },
 "nbformat": 4,
 "nbformat_minor": 2,
 "cells": [
  {
   "source": [
    "## CNN autoencoder"
   ],
   "cell_type": "markdown",
   "metadata": {}
  },
  {
   "source": [
    "## Prepare data"
   ],
   "cell_type": "markdown",
   "metadata": {}
  },
  {
   "cell_type": "code",
   "execution_count": 1,
   "metadata": {},
   "outputs": [],
   "source": [
    "from matplotlib import pyplot\n",
    "import keras\n",
    "import tensorflow as tf\n",
    "from keras.models import Model\n",
    "from keras.models import Sequential\n",
    "from keras.layers import Input\n",
    "from keras.layers import LSTM\n",
    "from keras.layers import Dense\n",
    "from keras.layers import Dropout\n",
    "from keras.layers import TimeDistributed\n",
    "from keras.layers import RepeatVector\n",
    "from keras.layers import GRU\n",
    "from keras.layers import Conv3D\n",
    "from keras.layers import MaxPool3D\n",
    "from keras.utils import plot_model\n",
    "from keras.callbacks import EarlyStopping\n",
    "import numpy as np\n",
    "from numpy import array"
   ]
  },
  {
   "cell_type": "code",
   "execution_count": 3,
   "metadata": {},
   "outputs": [
    {
     "output_type": "stream",
     "name": "stdout",
     "text": [
      "(989, 64)\n0140\n"
     ]
    }
   ],
   "source": [
    "from data_processing import process\n",
    "filename = 'gear_dataset.csv'\n",
    "rows = 1000\n",
    "data, IDs = process(filename,rows)\n",
    "n_rows = data.shape[0] \n",
    "n_features = data.shape[1]\n",
    "print(data.shape)\n"
   ]
  },
  {
   "source": [
    "## fixa så att det är uppdelat på kanske $40\\cdot64\\cdot2$"
   ],
   "cell_type": "markdown",
   "metadata": {}
  },
  {
   "cell_type": "code",
   "execution_count": 61,
   "metadata": {},
   "outputs": [],
   "source": [
    "# do cube with stream*64*ID\n",
    "\n",
    "def convert_from_hex(hex,output_type): # converts the data in hex from hexadecimal to decimal or binary form\n",
    "     out = np.zeros((hex.size))\n",
    "     if output_type == 'dec':\n",
    "        for x in range(hex.size):\n",
    "            h_value = hex[x]\n",
    "            out[x] = int(h_value,16)\n",
    "     else:\n",
    "        for x in range(hex.size):\n",
    "            h_value = hex[x]\n",
    "            binary[x] = bin(int(h_value, 16))[2:]\n",
    "\n",
    "     return out\n",
    "\n",
    "\n",
    "#data = convert_from_hex(Data,'dec')\n",
    "IDs = IDs.reset_index(drop=True)\n",
    "\n",
    "id = convert_from_hex(IDs,'dec') \n",
    "\n",
    "ID_matrix =  array([[id],]*data.shape[1]).transpose()\n",
    "ID_matrix = np.squeeze(ID_matrix)\n",
    "dataCube = np.dstack([data,ID_matrix])"
   ]
  },
  {
   "source": [
    "## Build network"
   ],
   "cell_type": "markdown",
   "metadata": {}
  },
  {
   "cell_type": "code",
   "execution_count": 68,
   "metadata": {},
   "outputs": [],
   "source": [
    "# channels?? 2d or 3d? \n",
    "n_timesteps = dataCube.shape[0]\n",
    "n_features = dataCube.shape[1]\n",
    "n_3rd = 2\n",
    "n_channels = 1\n",
    "input = Input(shape=(n_timesteps,n_features,n_3rd,n_channels))\n",
    "\n",
    "l1 = Conv3D(filters = 16, kernel_size = (3, 3, 3), activation='relu', padding='same')(input)\n",
    "l2 = Conv3D(filters = 16, kernel_size = (3, 3, 3), activation='relu', padding='same')(l1)"
   ]
  },
  {
   "cell_type": "code",
   "execution_count": null,
   "metadata": {},
   "outputs": [],
   "source": []
  }
 ]
}